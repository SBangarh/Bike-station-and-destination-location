{
 "cells": [
  {
   "cell_type": "code",
   "execution_count": 1,
   "metadata": {},
   "outputs": [],
   "source": [
    "import pandas as pd\n",
    "import seaborn as sns\n",
    "import matplotlib.pyplot as plt\n",
    "from scipy import stats"
   ]
  },
  {
   "cell_type": "code",
   "execution_count": null,
   "metadata": {},
   "outputs": [],
   "source": [
    "#Functions for EDA and QA\n",
    "\n",
    "#get info about dataframe\n",
    "def get_info(dataframe):\n",
    "    if isinstance(dataframe, pd.DataFrame):\n",
    "        return \"Here is your dataframe info:\", dataframe.info()\n",
    "    else:\n",
    "        return \"Your data in not in dataframe format!\"\n",
    "    \n",
    "#get shape\n",
    "def get_shape(dataframe):\n",
    "    if dataframe.shape != (0,0):\n",
    "        return \"The dataframe shape is \", dataframe.shape\n",
    "    else:\n",
    "        return \"There was an error with your dataframe\" \n",
    "\n",
    "\n",
    "#check for duplicates\n",
    "def check_dups(dataframe):\n",
    "    num_dups = dataframe[dataframe.duplicated()].sum()\n",
    "    if num_dups > 0:\n",
    "        return f\"There are {num_dups} duplicates in your dataframe!\"\n",
    "    else:\n",
    "        return \"There are no duplicates in your dataframe!\"\n",
    "\n",
    "#check for nulls by column\n",
    "def check_nulls(dataframe):\n",
    "    num_nulls = dataframe.isnull().sum()\n",
    "    if num_nulls > 0:\n",
    "        return f\"There are {num_nulls} nulls in your dataframe!\"\n",
    "    else:\n",
    "        return \"There are no nulls in your dataframe\"\n",
    "    \n",
    "#drop duplicates\n",
    "def drop_dups(dataframe):\n",
    "    return dataframe.drop_duplicates()\n",
    "\n",
    "#get column names\n",
    "def column_names(dataframe):\n",
    "    return dataframe.columns\n",
    "\n",
    "#drop columns\n",
    "def drop_columns(dataframe, column_names):\n",
    "    return dataframe.drop(column_names)\n",
    "\n",
    "#change datatype of column\n",
    "def change_dtype(dataframe, column_name, dtype):\n",
    "    return dataframe[column_name].astype(dtype)\n"
   ]
  },
  {
   "cell_type": "code",
   "execution_count": null,
   "metadata": {},
   "outputs": [],
   "source": [
    "#functions for joining data\n",
    "#join data\n",
    "def join_data(dataframe_1, dataframe_2, how, left_on, right_on):\n",
    "    return dataframe_1.merge(dataframe_2, how, left_on, right_on)"
   ]
  },
  {
   "cell_type": "code",
   "execution_count": null,
   "metadata": {},
   "outputs": [],
   "source": [
    "#functions for graphs\n",
    "\n",
    "#boxplot\n",
    "def create_boxplot(dataframe, column_name):\n",
    "    return sns.boxplot(x=dataframe[column_name])\n",
    "\n",
    "#create histogram\n",
    "def create_histogram(dataframe, column_name, bins=None):\n",
    "    return plt.hist(dataframe[column_name], bins)\n",
    "\n",
    "#create correlation heatmap\n",
    "def create_heatmap(dataframe):\n",
    "    correlation = dataframe.corr()\n",
    "    sns.heatmap(correlation)"
   ]
  }
 ],
 "metadata": {
  "kernelspec": {
   "display_name": "THE_ONE",
   "language": "python",
   "name": "the_one"
  },
  "language_info": {
   "codemirror_mode": {
    "name": "ipython",
    "version": 3
   },
   "file_extension": ".py",
   "mimetype": "text/x-python",
   "name": "python",
   "nbconvert_exporter": "python",
   "pygments_lexer": "ipython3",
   "version": "3.11.5"
  },
  "orig_nbformat": 4
 },
 "nbformat": 4,
 "nbformat_minor": 2
}
