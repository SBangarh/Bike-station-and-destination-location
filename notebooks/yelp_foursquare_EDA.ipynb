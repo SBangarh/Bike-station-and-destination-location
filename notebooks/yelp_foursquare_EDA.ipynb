{
 "cells": [
  {
   "cell_type": "code",
   "execution_count": 323,
   "metadata": {},
   "outputs": [],
   "source": [
    "# imports\n",
    "import pandas as pd\n",
    "import requests\n",
    "import os\n",
    "from pprint import pprint\n",
    "import json\n",
    "import numpy as np\n"
   ]
  },
  {
   "cell_type": "markdown",
   "metadata": {},
   "source": [
    "# Foursquare"
   ]
  },
  {
   "cell_type": "markdown",
   "metadata": {},
   "source": [
    "Send a request to Foursquare with a small radius (1000m) for all the bike stations in your city of choice. "
   ]
  },
  {
   "cell_type": "code",
   "execution_count": 8,
   "metadata": {},
   "outputs": [],
   "source": [
    "#import list of lat long from city bikes notebook\n",
    "\n",
    "%store -r cb_lat_long\n",
    "api_key = os.environ[\"foursquare_api\"]\n",
    "radius = \"1000\" \n",
    "\n",
    "#ll = latitude and longitude   \n",
    "\n",
    "headers = {\n",
    "   \"Accept\": \"application/json\",\n",
    "   'Authorization': api_key\n",
    "   }\n",
    "\n",
    "fields = \"name,rating,popularity,price,distance,stats,location\"\n",
    "category = {\"Dining and Drinking\": \"13000\"}\n",
    "\n",
    "fsq_responses = []\n",
    "for latlong in cb_lat_long:\n",
    "   ll = \",\".join(map(str,latlong))\n",
    "   url = \"https://api.foursquare.com/v3/places/search?\" + \"&ll=\" + ll + \"&radius=\" + radius + \"&categories=\" + category[\"Dining and Drinking\"] + \"&fields=\" + fields\n",
    "   result = requests.get(url, headers=headers)\n",
    "   fsq_responses.append(result.json())  \n",
    "\n"
   ]
  },
  {
   "cell_type": "code",
   "execution_count": 10,
   "metadata": {},
   "outputs": [],
   "source": [
    "#write to json file for later use\n",
    "with open('fsq_responses.json', 'w') as f:\n",
    "    json.dump(fsq_responses, f)\n",
    "#a instead of w maybe"
   ]
  },
  {
   "cell_type": "code",
   "execution_count": 253,
   "metadata": {},
   "outputs": [],
   "source": [
    "with open('fsq_responses.json') as fsq_json:\n",
    "    fsq_data = json.load(fsq_json)\n",
    "fsq_json.close()"
   ]
  },
  {
   "cell_type": "code",
   "execution_count": null,
   "metadata": {},
   "outputs": [],
   "source": [
    "pprint(fsq_data)"
   ]
  },
  {
   "cell_type": "markdown",
   "metadata": {},
   "source": [
    "Parse through the response to get the POI (such as restaurants, bars, etc) details you want (ratings, name, location, etc)"
   ]
  },
  {
   "cell_type": "code",
   "execution_count": null,
   "metadata": {},
   "outputs": [],
   "source": [
    "fsq_list = []\n",
    "for item in fsq_data:\n",
    "    context = item['context']\n",
    "    latitude = context['geo_bounds']['circle']['center']['latitude']\n",
    "    longitude = context['geo_bounds']['circle']['center']['longitude']\n",
    "    results = item['results']\n",
    "    for result in results:\n",
    "        fsq_dict = {} # create a new dictionary for each result\n",
    "        fsq_dict['latitude'] = latitude\n",
    "        fsq_dict['longitude'] = longitude\n",
    "        for key, value in result.items():\n",
    "            fsq_dict[key] = value\n",
    "        fsq_list.append(fsq_dict) # append the dictionary to the list\n",
    "print(len(fsq_list))\n",
    "pprint(fsq_list)\n"
   ]
  },
  {
   "cell_type": "markdown",
   "metadata": {},
   "source": [
    "Put your parsed results into a DataFrame"
   ]
  },
  {
   "cell_type": "code",
   "execution_count": null,
   "metadata": {},
   "outputs": [],
   "source": [
    "\n",
    "foursquare_df = pd.DataFrame(fsq_list)\n",
    "\n",
    "#isolated address\n",
    "address_df = pd.DataFrame(foursquare_df['location'])\n",
    "address_df = address_df.join(address_df['location'].apply(pd.Series))\n",
    "address_df = address_df.drop(columns=['location', 'address', 'cross_street', 'locality', 'postcode', 'region', 'address_extended', 'country'])\n",
    "\n",
    "#isolated stats - total reviews etc\n",
    "stats_df = pd.DataFrame(foursquare_df['stats'])\n",
    "stats_df = stats_df.join(stats_df['stats'].apply(pd.Series))\n",
    "stats_df = stats_df.drop(columns=['stats', 0])\n",
    "stats_df.head()\n",
    "\n",
    "#joined the dfs foursquare, address, stats\n",
    "\n",
    "foursquare_join_df = foursquare_df.join(address_df).join(stats_df)\n",
    "foursquare_join_df.head()\n",
    "\n",
    "#dropped columns considered irrelevent to project\n",
    "foursquare_df_final = foursquare_join_df.drop(columns=['location', 'stats'])\n",
    "\n",
    "#rename column\n",
    "foursquare_df_final = foursquare_df_final.rename(columns={'formatted_address': 'address'})\n",
    "\n",
    "foursquare_df_final"
   ]
  },
  {
   "cell_type": "code",
   "execution_count": 311,
   "metadata": {},
   "outputs": [
    {
     "name": "stdout",
     "output_type": "stream",
     "text": [
      "Stored 'foursquare_df_final' (DataFrame)\n"
     ]
    }
   ],
   "source": [
    "#store foursquare df\n",
    "%store foursquare_df_final"
   ]
  },
  {
   "cell_type": "markdown",
   "metadata": {},
   "source": [
    "# Yelp"
   ]
  },
  {
   "cell_type": "markdown",
   "metadata": {},
   "source": [
    "Send a request to Yelp with a small radius (1000m) for all the bike stations in your city of choice. "
   ]
  },
  {
   "cell_type": "code",
   "execution_count": null,
   "metadata": {},
   "outputs": [],
   "source": [
    "%store -r cb_lat_long\n",
    "yelp_key = os.environ[\"yelp_api\"]\n",
    "yelp_radius = '1000'\n",
    "yelp_headers = {\n",
    "    \"Accept\": \"application/json\",\n",
    "   'Authorization': 'Bearer ' + yelp_key\n",
    "}\n",
    "\n",
    "category_term = \"dining and drinking\"\n",
    "\n",
    "yelp_responses = []\n",
    "for latlong in cb_lat_long:\n",
    "    latitude = str(latlong[0])\n",
    "    longitude = str(latlong[1])\n",
    "    url = 'https://api.yelp.com/v3/businesses/search?latitude=' + latitude + '&longitude=' + longitude + '&term=' + category_term + '&radius=' + yelp_radius + '&categories=' + category_term + '&sort_by=best_match'\n",
    "    yelp_response = requests.get(url, headers=yelp_headers)\n",
    "    if yelp_response.status_code == 200:\n",
    "        yelp_responses.append(yelp_response.json())\n",
    "    elif yelp_response.status_code == 429:\n",
    "        print(\"Rate Limited\")\n",
    "    elif yelp_response.status_code == 400:\n",
    "        print(\"Invalid Request\")\n",
    "    else:\n",
    "        print(\"Other error. Investigate\")"
   ]
  },
  {
   "cell_type": "code",
   "execution_count": null,
   "metadata": {},
   "outputs": [],
   "source": [
    "print(len(yelp_responses))\n",
    "pprint(yelp_responses)"
   ]
  },
  {
   "cell_type": "code",
   "execution_count": 46,
   "metadata": {},
   "outputs": [],
   "source": [
    "#write to json file for later use\n",
    "with open('yelp_responses.json', 'w') as f:\n",
    "    json.dump(yelp_responses, f)"
   ]
  },
  {
   "cell_type": "code",
   "execution_count": 126,
   "metadata": {},
   "outputs": [],
   "source": [
    "with open('yelp_responses.json') as yelp_json:\n",
    "    yelp_data = json.load(yelp_json)"
   ]
  },
  {
   "cell_type": "markdown",
   "metadata": {},
   "source": [
    "Parse through the response to get the POI (such as restaurants, bars, etc) details you want (ratings, name, location, etc)"
   ]
  },
  {
   "cell_type": "code",
   "execution_count": null,
   "metadata": {},
   "outputs": [],
   "source": [
    "print(len(yelp_data))\n",
    "pprint(yelp_data[1])\n"
   ]
  },
  {
   "cell_type": "code",
   "execution_count": null,
   "metadata": {},
   "outputs": [],
   "source": [
    "yelp_list = []\n",
    "for item in yelp_data:\n",
    "    latitude = item['region']['center']['latitude']\n",
    "    longitude = item['region']['center']['longitude']\n",
    "    for business in item['businesses']:\n",
    "        business_dict = {} # create a new dictionary for each business\n",
    "        business_dict['latitude'] = latitude\n",
    "        business_dict['longitude'] = longitude\n",
    "        business_dict['address'] = business['location']['display_address']\n",
    "        for key, value in business.items():\n",
    "            business_dict[key] = value\n",
    "        yelp_list.append(business_dict) # append the dictionary to the list\n",
    "print(len(yelp_list))\n",
    "pprint(yelp_list)\n"
   ]
  },
  {
   "cell_type": "markdown",
   "metadata": {},
   "source": [
    "Put your parsed results into a DataFrame"
   ]
  },
  {
   "cell_type": "code",
   "execution_count": null,
   "metadata": {},
   "outputs": [],
   "source": [
    "yelp_raw_df = pd.DataFrame(yelp_list)\n",
    "\n",
    "#columns to drop = address, id, alias, image_url, is_closed, url, categproes, transactions, location, phone, display_phone, address3, city, zip_code, country, state, display_address\n",
    "#columns were considered irrelevent for the project\n",
    "yelp_df_final = yelp_raw_df.drop(columns=['location', 'id', 'alias', 'image_url', 'is_closed', 'url', 'categories', 'coordinates', 'transactions', 'phone', 'display_phone',])\n",
    "\n",
    "#change column name to match foursquare\n",
    "yelp_df_final = yelp_df_final.rename(columns={'review_count': 'total_ratings'})\n",
    "\n",
    "#standardized rating to math foursquare; scale 1-5 to 1-10\n",
    "yelp_df_final['rating'] = yelp_df_final['rating'].apply(lambda x: x * 2)\n",
    "\n",
    "#standardize price\n",
    "price_dict = {\n",
    "    '$': 1,\n",
    "    '$$': 2,\n",
    "    '$$$': 3,\n",
    "    '$$$$': 4\n",
    "}\n",
    "yelp_df_final['price'] = yelp_df_final['price'].replace(price_dict)\n",
    "\n",
    "#fix address column\n",
    "yelp_address = pd.DataFrame(yelp_df_final['address'].to_list(), columns= ['address', 'city', 'locality', 'country', 'extra'])\n",
    "yelp_df_final['address_proper'] = yelp_address['address'] + ', ' + yelp_address['city'] + ', ' + yelp_address['locality']\n",
    "yelp_df_final = yelp_df_final.drop(columns=['address'])\n",
    "yelp_df_final = yelp_df_final.rename(columns={'address_proper': 'address'})\n",
    "yelp_df_final\n"
   ]
  },
  {
   "cell_type": "code",
   "execution_count": 310,
   "metadata": {},
   "outputs": [
    {
     "name": "stdout",
     "output_type": "stream",
     "text": [
      "Stored 'yelp_df_final' (DataFrame)\n"
     ]
    }
   ],
   "source": [
    "#store df \n",
    "%store yelp_df_final"
   ]
  },
  {
   "cell_type": "markdown",
   "metadata": {},
   "source": []
  },
  {
   "cell_type": "markdown",
   "metadata": {},
   "source": [
    "# Comparing Results"
   ]
  },
  {
   "cell_type": "markdown",
   "metadata": {},
   "source": [
    "Which API provided you with more complete data? Provide an explanation. "
   ]
  },
  {
   "cell_type": "markdown",
   "metadata": {},
   "source": [
    "I found Foursquare provided more complete information. For one, Foursquare provided more categories that results could be returned for. For example, Yelp did not provide popularity and stats - total photos.\n",
    "\n",
    "I did notice yelp provided more results than foursquare by over a 1000 results. Additionally, the top 10 ratings from each had no common restaurants."
   ]
  },
  {
   "cell_type": "markdown",
   "metadata": {},
   "source": [
    "Get the top 10 restaurants according to their rating"
   ]
  },
  {
   "cell_type": "markdown",
   "metadata": {},
   "source": [
    "Foursquare and Yelp returned different top 10 ratings. None of the top 10 in Foursquare can be found in the top 10 for Yelp. I am curious as to why, but I will save it till the end of the project if I have time."
   ]
  },
  {
   "cell_type": "code",
   "execution_count": 343,
   "metadata": {},
   "outputs": [
    {
     "data": {
      "text/html": [
       "<div>\n",
       "<style scoped>\n",
       "    .dataframe tbody tr th:only-of-type {\n",
       "        vertical-align: middle;\n",
       "    }\n",
       "\n",
       "    .dataframe tbody tr th {\n",
       "        vertical-align: top;\n",
       "    }\n",
       "\n",
       "    .dataframe thead th {\n",
       "        text-align: right;\n",
       "    }\n",
       "</style>\n",
       "<table border=\"1\" class=\"dataframe\">\n",
       "  <thead>\n",
       "    <tr style=\"text-align: right;\">\n",
       "      <th></th>\n",
       "      <th>latitude</th>\n",
       "      <th>longitude</th>\n",
       "      <th>distance</th>\n",
       "      <th>name</th>\n",
       "      <th>popularity</th>\n",
       "      <th>price</th>\n",
       "      <th>rating</th>\n",
       "      <th>address</th>\n",
       "      <th>total_photos</th>\n",
       "      <th>total_ratings</th>\n",
       "      <th>total_tips</th>\n",
       "    </tr>\n",
       "  </thead>\n",
       "  <tbody>\n",
       "    <tr>\n",
       "      <th>22</th>\n",
       "      <td>49.279764</td>\n",
       "      <td>-123.110154</td>\n",
       "      <td>385</td>\n",
       "      <td>Revolver</td>\n",
       "      <td>0.973746</td>\n",
       "      <td>2.0</td>\n",
       "      <td>9.4</td>\n",
       "      <td>325 Cambie St (btwn Hastings &amp; Cordova), Vanco...</td>\n",
       "      <td>966.0</td>\n",
       "      <td>802.0</td>\n",
       "      <td>184.0</td>\n",
       "    </tr>\n",
       "    <tr>\n",
       "      <th>7</th>\n",
       "      <td>49.262487</td>\n",
       "      <td>-123.114397</td>\n",
       "      <td>674</td>\n",
       "      <td>33 Acres Brewing Co</td>\n",
       "      <td>0.949190</td>\n",
       "      <td>2.0</td>\n",
       "      <td>9.4</td>\n",
       "      <td>15 8th Ave W (btwn Manitoba &amp; Ontario), Vancou...</td>\n",
       "      <td>596.0</td>\n",
       "      <td>378.0</td>\n",
       "      <td>75.0</td>\n",
       "    </tr>\n",
       "    <tr>\n",
       "      <th>186</th>\n",
       "      <td>49.288444</td>\n",
       "      <td>-123.139203</td>\n",
       "      <td>559</td>\n",
       "      <td>The Inukshuk</td>\n",
       "      <td>0.995596</td>\n",
       "      <td>NaN</td>\n",
       "      <td>9.3</td>\n",
       "      <td>1700 Beach Ave, Vancouver BC</td>\n",
       "      <td>608.0</td>\n",
       "      <td>78.0</td>\n",
       "      <td>6.0</td>\n",
       "    </tr>\n",
       "    <tr>\n",
       "      <th>71</th>\n",
       "      <td>49.271721</td>\n",
       "      <td>-123.104207</td>\n",
       "      <td>327</td>\n",
       "      <td>Earnest Ice Cream</td>\n",
       "      <td>0.983108</td>\n",
       "      <td>1.0</td>\n",
       "      <td>9.3</td>\n",
       "      <td>1829 Quebec St (at E 2nd Ave), Vancouver BC V5...</td>\n",
       "      <td>264.0</td>\n",
       "      <td>298.0</td>\n",
       "      <td>51.0</td>\n",
       "    </tr>\n",
       "    <tr>\n",
       "      <th>792</th>\n",
       "      <td>49.284157</td>\n",
       "      <td>-123.099917</td>\n",
       "      <td>379</td>\n",
       "      <td>The Mackenzie Room</td>\n",
       "      <td>0.988046</td>\n",
       "      <td>NaN</td>\n",
       "      <td>9.2</td>\n",
       "      <td>415 Powell St (Powell Street), Vancouver BC V6...</td>\n",
       "      <td>35.0</td>\n",
       "      <td>39.0</td>\n",
       "      <td>7.0</td>\n",
       "    </tr>\n",
       "    <tr>\n",
       "      <th>1872</th>\n",
       "      <td>49.272470</td>\n",
       "      <td>-123.185643</td>\n",
       "      <td>472</td>\n",
       "      <td>Jericho Beach</td>\n",
       "      <td>0.996587</td>\n",
       "      <td>NaN</td>\n",
       "      <td>9.2</td>\n",
       "      <td>3941 Pt Grey Rd, Vancouver BC V6R 1B5</td>\n",
       "      <td>475.0</td>\n",
       "      <td>110.0</td>\n",
       "      <td>8.0</td>\n",
       "    </tr>\n",
       "    <tr>\n",
       "      <th>90</th>\n",
       "      <td>49.282409</td>\n",
       "      <td>-123.118541</td>\n",
       "      <td>125</td>\n",
       "      <td>Hawksworth Restaurant</td>\n",
       "      <td>0.986635</td>\n",
       "      <td>4.0</td>\n",
       "      <td>9.1</td>\n",
       "      <td>801 Georgia St W (at Howe St), Vancouver BC V6...</td>\n",
       "      <td>405.0</td>\n",
       "      <td>272.0</td>\n",
       "      <td>66.0</td>\n",
       "    </tr>\n",
       "    <tr>\n",
       "      <th>13</th>\n",
       "      <td>49.274566</td>\n",
       "      <td>-123.121817</td>\n",
       "      <td>272</td>\n",
       "      <td>Tacofino</td>\n",
       "      <td>0.972679</td>\n",
       "      <td>1.0</td>\n",
       "      <td>9.1</td>\n",
       "      <td>1025 Mainland St (Nelson), Vancouver BC V6B 5P9</td>\n",
       "      <td>39.0</td>\n",
       "      <td>94.0</td>\n",
       "      <td>24.0</td>\n",
       "    </tr>\n",
       "    <tr>\n",
       "      <th>604</th>\n",
       "      <td>49.265605</td>\n",
       "      <td>-123.152566</td>\n",
       "      <td>516</td>\n",
       "      <td>Raisu</td>\n",
       "      <td>0.979295</td>\n",
       "      <td>2.0</td>\n",
       "      <td>9.1</td>\n",
       "      <td>2340 4th Ave W, Vancouver BC V6K 1P1</td>\n",
       "      <td>191.0</td>\n",
       "      <td>73.0</td>\n",
       "      <td>11.0</td>\n",
       "    </tr>\n",
       "    <tr>\n",
       "      <th>276</th>\n",
       "      <td>49.279821</td>\n",
       "      <td>-123.108020</td>\n",
       "      <td>472</td>\n",
       "      <td>Keefer Bar</td>\n",
       "      <td>0.968446</td>\n",
       "      <td>3.0</td>\n",
       "      <td>9.1</td>\n",
       "      <td>135 Keefer St (btwn Columbia &amp; Main), Vancouve...</td>\n",
       "      <td>245.0</td>\n",
       "      <td>233.0</td>\n",
       "      <td>60.0</td>\n",
       "    </tr>\n",
       "  </tbody>\n",
       "</table>\n",
       "</div>"
      ],
      "text/plain": [
       "       latitude   longitude  distance                   name  popularity  \\\n",
       "22    49.279764 -123.110154       385               Revolver    0.973746   \n",
       "7     49.262487 -123.114397       674    33 Acres Brewing Co    0.949190   \n",
       "186   49.288444 -123.139203       559           The Inukshuk    0.995596   \n",
       "71    49.271721 -123.104207       327      Earnest Ice Cream    0.983108   \n",
       "792   49.284157 -123.099917       379     The Mackenzie Room    0.988046   \n",
       "1872  49.272470 -123.185643       472          Jericho Beach    0.996587   \n",
       "90    49.282409 -123.118541       125  Hawksworth Restaurant    0.986635   \n",
       "13    49.274566 -123.121817       272               Tacofino    0.972679   \n",
       "604   49.265605 -123.152566       516                  Raisu    0.979295   \n",
       "276   49.279821 -123.108020       472             Keefer Bar    0.968446   \n",
       "\n",
       "      price  rating                                            address  \\\n",
       "22      2.0     9.4  325 Cambie St (btwn Hastings & Cordova), Vanco...   \n",
       "7       2.0     9.4  15 8th Ave W (btwn Manitoba & Ontario), Vancou...   \n",
       "186     NaN     9.3                       1700 Beach Ave, Vancouver BC   \n",
       "71      1.0     9.3  1829 Quebec St (at E 2nd Ave), Vancouver BC V5...   \n",
       "792     NaN     9.2  415 Powell St (Powell Street), Vancouver BC V6...   \n",
       "1872    NaN     9.2              3941 Pt Grey Rd, Vancouver BC V6R 1B5   \n",
       "90      4.0     9.1  801 Georgia St W (at Howe St), Vancouver BC V6...   \n",
       "13      1.0     9.1    1025 Mainland St (Nelson), Vancouver BC V6B 5P9   \n",
       "604     2.0     9.1               2340 4th Ave W, Vancouver BC V6K 1P1   \n",
       "276     3.0     9.1  135 Keefer St (btwn Columbia & Main), Vancouve...   \n",
       "\n",
       "      total_photos  total_ratings  total_tips  \n",
       "22           966.0          802.0       184.0  \n",
       "7            596.0          378.0        75.0  \n",
       "186          608.0           78.0         6.0  \n",
       "71           264.0          298.0        51.0  \n",
       "792           35.0           39.0         7.0  \n",
       "1872         475.0          110.0         8.0  \n",
       "90           405.0          272.0        66.0  \n",
       "13            39.0           94.0        24.0  \n",
       "604          191.0           73.0        11.0  \n",
       "276          245.0          233.0        60.0  "
      ]
     },
     "execution_count": 343,
     "metadata": {},
     "output_type": "execute_result"
    }
   ],
   "source": [
    "#sort values\n",
    "fsq_unique_establishments = foursquare_df_final.drop_duplicates('name')\n",
    "fsq_unique_establishments.sort_values('rating', ascending=False).head(10)\n"
   ]
  },
  {
   "cell_type": "code",
   "execution_count": 339,
   "metadata": {},
   "outputs": [
    {
     "data": {
      "text/html": [
       "<div>\n",
       "<style scoped>\n",
       "    .dataframe tbody tr th:only-of-type {\n",
       "        vertical-align: middle;\n",
       "    }\n",
       "\n",
       "    .dataframe tbody tr th {\n",
       "        vertical-align: top;\n",
       "    }\n",
       "\n",
       "    .dataframe thead th {\n",
       "        text-align: right;\n",
       "    }\n",
       "</style>\n",
       "<table border=\"1\" class=\"dataframe\">\n",
       "  <thead>\n",
       "    <tr style=\"text-align: right;\">\n",
       "      <th></th>\n",
       "      <th>latitude</th>\n",
       "      <th>longitude</th>\n",
       "      <th>name</th>\n",
       "      <th>total_ratings</th>\n",
       "      <th>rating</th>\n",
       "      <th>price</th>\n",
       "      <th>distance</th>\n",
       "      <th>address</th>\n",
       "    </tr>\n",
       "  </thead>\n",
       "  <tbody>\n",
       "    <tr>\n",
       "      <th>353</th>\n",
       "      <td>49.288444</td>\n",
       "      <td>-123.139203</td>\n",
       "      <td>Arike Restaurant</td>\n",
       "      <td>25</td>\n",
       "      <td>10.0</td>\n",
       "      <td>NaN</td>\n",
       "      <td>221.084330</td>\n",
       "      <td>1725 Davie St, Vancouver, BC V6G 1W5, Canada</td>\n",
       "    </tr>\n",
       "    <tr>\n",
       "      <th>368</th>\n",
       "      <td>49.288444</td>\n",
       "      <td>-123.139203</td>\n",
       "      <td>Score on Davie</td>\n",
       "      <td>349</td>\n",
       "      <td>9.0</td>\n",
       "      <td>2.0</td>\n",
       "      <td>757.712901</td>\n",
       "      <td>1262 Davie Street, Vancouver, BC V6J 5L1, Canada</td>\n",
       "    </tr>\n",
       "    <tr>\n",
       "      <th>359</th>\n",
       "      <td>49.288444</td>\n",
       "      <td>-123.139203</td>\n",
       "      <td>Guu with Garlic</td>\n",
       "      <td>1054</td>\n",
       "      <td>9.0</td>\n",
       "      <td>2.0</td>\n",
       "      <td>423.396091</td>\n",
       "      <td>1698 Robson Street, Vancouver, BC V6G 1C7, Canada</td>\n",
       "    </tr>\n",
       "    <tr>\n",
       "      <th>1954</th>\n",
       "      <td>49.277665</td>\n",
       "      <td>-123.073653</td>\n",
       "      <td>Dundas Eat + Drink</td>\n",
       "      <td>72</td>\n",
       "      <td>9.0</td>\n",
       "      <td>2.0</td>\n",
       "      <td>1169.218472</td>\n",
       "      <td>2077 Dundas Street, Vancouver, BC V5L 1J5, Canada</td>\n",
       "    </tr>\n",
       "    <tr>\n",
       "      <th>23</th>\n",
       "      <td>49.274566</td>\n",
       "      <td>-123.121817</td>\n",
       "      <td>Blue Water Cafe</td>\n",
       "      <td>1070</td>\n",
       "      <td>9.0</td>\n",
       "      <td>4.0</td>\n",
       "      <td>190.502213</td>\n",
       "      <td>1095 Hamilton St, Vancouver, BC V6B 5T4, Canada</td>\n",
       "    </tr>\n",
       "    <tr>\n",
       "      <th>681</th>\n",
       "      <td>49.272827</td>\n",
       "      <td>-123.147744</td>\n",
       "      <td>Grapes &amp; Soda</td>\n",
       "      <td>44</td>\n",
       "      <td>9.0</td>\n",
       "      <td>2.0</td>\n",
       "      <td>931.131063</td>\n",
       "      <td>1541 W 6th Avenue, Vancouver, BC V6J 1R1, Canada</td>\n",
       "    </tr>\n",
       "    <tr>\n",
       "      <th>398</th>\n",
       "      <td>49.280620</td>\n",
       "      <td>-123.124820</td>\n",
       "      <td>Beach Ave Bar And Grill</td>\n",
       "      <td>26</td>\n",
       "      <td>9.0</td>\n",
       "      <td>2.0</td>\n",
       "      <td>967.953201</td>\n",
       "      <td>1 -1012 Beach Avenue, Vancouver, BC V6E 1T7, C...</td>\n",
       "    </tr>\n",
       "    <tr>\n",
       "      <th>1933</th>\n",
       "      <td>49.277469</td>\n",
       "      <td>-123.081315</td>\n",
       "      <td>The Tiki Bar</td>\n",
       "      <td>32</td>\n",
       "      <td>9.0</td>\n",
       "      <td>2.0</td>\n",
       "      <td>666.708667</td>\n",
       "      <td>1489 E Hastings Street, Vancouver, BC V5L 1S4,...</td>\n",
       "    </tr>\n",
       "    <tr>\n",
       "      <th>144</th>\n",
       "      <td>49.271721</td>\n",
       "      <td>-123.104207</td>\n",
       "      <td>Oyster Express</td>\n",
       "      <td>165</td>\n",
       "      <td>9.0</td>\n",
       "      <td>2.0</td>\n",
       "      <td>974.804233</td>\n",
       "      <td>296 Keefer Street, Vancouver, BC V6A 1X5, Canada</td>\n",
       "    </tr>\n",
       "    <tr>\n",
       "      <th>40</th>\n",
       "      <td>49.279764</td>\n",
       "      <td>-123.110154</td>\n",
       "      <td>Alouette Bistro</td>\n",
       "      <td>44</td>\n",
       "      <td>9.0</td>\n",
       "      <td>NaN</td>\n",
       "      <td>851.773421</td>\n",
       "      <td>567 Hornby Street, Vancouver, BC V6C 2E8, Canada</td>\n",
       "    </tr>\n",
       "  </tbody>\n",
       "</table>\n",
       "</div>"
      ],
      "text/plain": [
       "       latitude   longitude                     name  total_ratings  rating  \\\n",
       "353   49.288444 -123.139203         Arike Restaurant             25    10.0   \n",
       "368   49.288444 -123.139203           Score on Davie            349     9.0   \n",
       "359   49.288444 -123.139203          Guu with Garlic           1054     9.0   \n",
       "1954  49.277665 -123.073653       Dundas Eat + Drink             72     9.0   \n",
       "23    49.274566 -123.121817          Blue Water Cafe           1070     9.0   \n",
       "681   49.272827 -123.147744            Grapes & Soda             44     9.0   \n",
       "398   49.280620 -123.124820  Beach Ave Bar And Grill             26     9.0   \n",
       "1933  49.277469 -123.081315             The Tiki Bar             32     9.0   \n",
       "144   49.271721 -123.104207           Oyster Express            165     9.0   \n",
       "40    49.279764 -123.110154          Alouette Bistro             44     9.0   \n",
       "\n",
       "      price     distance                                            address  \n",
       "353     NaN   221.084330       1725 Davie St, Vancouver, BC V6G 1W5, Canada  \n",
       "368     2.0   757.712901   1262 Davie Street, Vancouver, BC V6J 5L1, Canada  \n",
       "359     2.0   423.396091  1698 Robson Street, Vancouver, BC V6G 1C7, Canada  \n",
       "1954    2.0  1169.218472  2077 Dundas Street, Vancouver, BC V5L 1J5, Canada  \n",
       "23      4.0   190.502213    1095 Hamilton St, Vancouver, BC V6B 5T4, Canada  \n",
       "681     2.0   931.131063   1541 W 6th Avenue, Vancouver, BC V6J 1R1, Canada  \n",
       "398     2.0   967.953201  1 -1012 Beach Avenue, Vancouver, BC V6E 1T7, C...  \n",
       "1933    2.0   666.708667  1489 E Hastings Street, Vancouver, BC V5L 1S4,...  \n",
       "144     2.0   974.804233   296 Keefer Street, Vancouver, BC V6A 1X5, Canada  \n",
       "40      NaN   851.773421   567 Hornby Street, Vancouver, BC V6C 2E8, Canada  "
      ]
     },
     "execution_count": 339,
     "metadata": {},
     "output_type": "execute_result"
    }
   ],
   "source": [
    "#Get top from yelp results\n",
    "yelp_unique_establishments = yelp_df_final.drop_duplicates('name')\n",
    "yelp_unique_establishments.sort_values('rating', ascending=False).head(10)"
   ]
  },
  {
   "cell_type": "code",
   "execution_count": 345,
   "metadata": {},
   "outputs": [
    {
     "data": {
      "text/plain": [
       "0    False\n",
       "1    False\n",
       "2    False\n",
       "3    False\n",
       "4    False\n",
       "5    False\n",
       "6    False\n",
       "7    False\n",
       "8    False\n",
       "9    False\n",
       "Name: name, dtype: bool"
      ]
     },
     "execution_count": 345,
     "metadata": {},
     "output_type": "execute_result"
    }
   ],
   "source": [
    "foursquare_df_compare = fsq_unique_establishments['name'].isin(yelp_unique_establishments['name'])\n",
    "foursquare_df_compare.head(10)"
   ]
  },
  {
   "cell_type": "code",
   "execution_count": null,
   "metadata": {},
   "outputs": [],
   "source": []
  }
 ],
 "metadata": {
  "kernelspec": {
   "display_name": "THE_ONE",
   "language": "python",
   "name": "the_one"
  },
  "language_info": {
   "codemirror_mode": {
    "name": "ipython",
    "version": 3
   },
   "file_extension": ".py",
   "mimetype": "text/x-python",
   "name": "python",
   "nbconvert_exporter": "python",
   "pygments_lexer": "ipython3",
   "version": "3.11.5"
  }
 },
 "nbformat": 4,
 "nbformat_minor": 4
}
