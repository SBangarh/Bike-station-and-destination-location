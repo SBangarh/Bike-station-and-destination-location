{
 "cells": [
  {
   "cell_type": "markdown",
   "metadata": {},
   "source": [
    "Build a regression model."
   ]
  },
  {
   "cell_type": "code",
   "execution_count": 11,
   "metadata": {},
   "outputs": [],
   "source": [
    "#imports\n",
    "import numpy as np\n",
    "import pandas as pd\n",
    "import sqlite3\n",
    "import statsmodels.api as sm"
   ]
  },
  {
   "cell_type": "code",
   "execution_count": 113,
   "metadata": {},
   "outputs": [
    {
     "data": {
      "text/html": [
       "<div>\n",
       "<style scoped>\n",
       "    .dataframe tbody tr th:only-of-type {\n",
       "        vertical-align: middle;\n",
       "    }\n",
       "\n",
       "    .dataframe tbody tr th {\n",
       "        vertical-align: top;\n",
       "    }\n",
       "\n",
       "    .dataframe thead th {\n",
       "        text-align: right;\n",
       "    }\n",
       "</style>\n",
       "<table border=\"1\" class=\"dataframe\">\n",
       "  <thead>\n",
       "    <tr style=\"text-align: right;\">\n",
       "      <th></th>\n",
       "      <th>ID</th>\n",
       "      <th>latitude</th>\n",
       "      <th>longitude</th>\n",
       "      <th>free_bikes</th>\n",
       "      <th>distance</th>\n",
       "      <th>name</th>\n",
       "      <th>price</th>\n",
       "      <th>rating</th>\n",
       "      <th>address</th>\n",
       "      <th>total_ratings</th>\n",
       "    </tr>\n",
       "  </thead>\n",
       "  <tbody>\n",
       "    <tr>\n",
       "      <th>0</th>\n",
       "      <td>0</td>\n",
       "      <td>49.262487</td>\n",
       "      <td>-123.114397</td>\n",
       "      <td>8.0</td>\n",
       "      <td>96.0</td>\n",
       "      <td>Marulilu Cafe</td>\n",
       "      <td>2.0</td>\n",
       "      <td>8.2</td>\n",
       "      <td>451W Broadway W (at Cambie St), Vancouver BC V...</td>\n",
       "      <td>112.0</td>\n",
       "    </tr>\n",
       "    <tr>\n",
       "      <th>1</th>\n",
       "      <td>1</td>\n",
       "      <td>49.262487</td>\n",
       "      <td>-123.114397</td>\n",
       "      <td>8.0</td>\n",
       "      <td>299.0</td>\n",
       "      <td>Aperture Coffee Bar</td>\n",
       "      <td>1.0</td>\n",
       "      <td>8.7</td>\n",
       "      <td>243 West Broadway (at Alberta St), Vancouver B...</td>\n",
       "      <td>94.0</td>\n",
       "    </tr>\n",
       "    <tr>\n",
       "      <th>2</th>\n",
       "      <td>3</td>\n",
       "      <td>49.262487</td>\n",
       "      <td>-123.114397</td>\n",
       "      <td>8.0</td>\n",
       "      <td>430.0</td>\n",
       "      <td>Milano Coffee</td>\n",
       "      <td>2.0</td>\n",
       "      <td>9.0</td>\n",
       "      <td>156 8th Ave W (btwn Columbia &amp; Manitoba St), V...</td>\n",
       "      <td>121.0</td>\n",
       "    </tr>\n",
       "    <tr>\n",
       "      <th>3</th>\n",
       "      <td>5</td>\n",
       "      <td>49.262487</td>\n",
       "      <td>-123.114397</td>\n",
       "      <td>8.0</td>\n",
       "      <td>225.0</td>\n",
       "      <td>Elysian Coffee Broadway</td>\n",
       "      <td>1.0</td>\n",
       "      <td>8.2</td>\n",
       "      <td>590 Broadway W (at Ash St), Vancouver BC V5Z 1E9</td>\n",
       "      <td>199.0</td>\n",
       "    </tr>\n",
       "    <tr>\n",
       "      <th>4</th>\n",
       "      <td>8</td>\n",
       "      <td>49.262487</td>\n",
       "      <td>-123.114397</td>\n",
       "      <td>8.0</td>\n",
       "      <td>724.0</td>\n",
       "      <td>Elysian Coffee</td>\n",
       "      <td>1.0</td>\n",
       "      <td>9.1</td>\n",
       "      <td>2301 Ontario St (at 7th Ave), Vancouver BC V5T...</td>\n",
       "      <td>75.0</td>\n",
       "    </tr>\n",
       "  </tbody>\n",
       "</table>\n",
       "</div>"
      ],
      "text/plain": [
       "   ID   latitude   longitude  free_bikes  distance                     name  \\\n",
       "0   0  49.262487 -123.114397         8.0      96.0            Marulilu Cafe   \n",
       "1   1  49.262487 -123.114397         8.0     299.0      Aperture Coffee Bar   \n",
       "2   3  49.262487 -123.114397         8.0     430.0            Milano Coffee   \n",
       "3   5  49.262487 -123.114397         8.0     225.0  Elysian Coffee Broadway   \n",
       "4   8  49.262487 -123.114397         8.0     724.0           Elysian Coffee   \n",
       "\n",
       "   price  rating                                            address  \\\n",
       "0    2.0     8.2  451W Broadway W (at Cambie St), Vancouver BC V...   \n",
       "1    1.0     8.7  243 West Broadway (at Alberta St), Vancouver B...   \n",
       "2    2.0     9.0  156 8th Ave W (btwn Columbia & Manitoba St), V...   \n",
       "3    1.0     8.2   590 Broadway W (at Ash St), Vancouver BC V5Z 1E9   \n",
       "4    1.0     9.1  2301 Ontario St (at 7th Ave), Vancouver BC V5T...   \n",
       "\n",
       "   total_ratings  \n",
       "0          112.0  \n",
       "1           94.0  \n",
       "2          121.0  \n",
       "3          199.0  \n",
       "4           75.0  "
      ]
     },
     "execution_count": 113,
     "metadata": {},
     "output_type": "execute_result"
    }
   ],
   "source": [
    "#import data\n",
    "db_connection = sqlite3.connect(\"python_project.db\")\n",
    "\n",
    "data_df = pd.read_sql_query(\"SELECT * FROM restaurants\", db_connection)\n",
    "\n",
    "data_df.head()\n",
    "\n",
    "# do a forward selection ; does distance, price, rating, total_rating have an impact on number of bikes?"
   ]
  },
  {
   "cell_type": "code",
   "execution_count": 115,
   "metadata": {},
   "outputs": [
    {
     "name": "stdout",
     "output_type": "stream",
     "text": [
      "<class 'pandas.core.frame.DataFrame'>\n",
      "Int64Index: 4597 entries, 0 to 5455\n",
      "Data columns (total 10 columns):\n",
      " #   Column         Non-Null Count  Dtype  \n",
      "---  ------         --------------  -----  \n",
      " 0   ID             4597 non-null   int64  \n",
      " 1   latitude       4597 non-null   float64\n",
      " 2   longitude      4597 non-null   float64\n",
      " 3   free_bikes     4597 non-null   float64\n",
      " 4   distance       4597 non-null   float64\n",
      " 5   name           4597 non-null   object \n",
      " 6   price          4597 non-null   float64\n",
      " 7   rating         4597 non-null   float64\n",
      " 8   address        4597 non-null   object \n",
      " 9   total_ratings  4597 non-null   float64\n",
      "dtypes: float64(7), int64(1), object(2)\n",
      "memory usage: 395.1+ KB\n"
     ]
    },
    {
     "data": {
      "text/html": [
       "<div>\n",
       "<style scoped>\n",
       "    .dataframe tbody tr th:only-of-type {\n",
       "        vertical-align: middle;\n",
       "    }\n",
       "\n",
       "    .dataframe tbody tr th {\n",
       "        vertical-align: top;\n",
       "    }\n",
       "\n",
       "    .dataframe thead th {\n",
       "        text-align: right;\n",
       "    }\n",
       "</style>\n",
       "<table border=\"1\" class=\"dataframe\">\n",
       "  <thead>\n",
       "    <tr style=\"text-align: right;\">\n",
       "      <th></th>\n",
       "      <th>free_bikes</th>\n",
       "      <th>distance</th>\n",
       "      <th>price</th>\n",
       "      <th>rating</th>\n",
       "      <th>total_ratings</th>\n",
       "    </tr>\n",
       "  </thead>\n",
       "  <tbody>\n",
       "    <tr>\n",
       "      <th>0</th>\n",
       "      <td>8.0</td>\n",
       "      <td>96.0</td>\n",
       "      <td>2.0</td>\n",
       "      <td>8.2</td>\n",
       "      <td>112.0</td>\n",
       "    </tr>\n",
       "    <tr>\n",
       "      <th>1</th>\n",
       "      <td>8.0</td>\n",
       "      <td>299.0</td>\n",
       "      <td>1.0</td>\n",
       "      <td>8.7</td>\n",
       "      <td>94.0</td>\n",
       "    </tr>\n",
       "    <tr>\n",
       "      <th>2</th>\n",
       "      <td>8.0</td>\n",
       "      <td>430.0</td>\n",
       "      <td>2.0</td>\n",
       "      <td>9.0</td>\n",
       "      <td>121.0</td>\n",
       "    </tr>\n",
       "    <tr>\n",
       "      <th>3</th>\n",
       "      <td>8.0</td>\n",
       "      <td>225.0</td>\n",
       "      <td>1.0</td>\n",
       "      <td>8.2</td>\n",
       "      <td>199.0</td>\n",
       "    </tr>\n",
       "    <tr>\n",
       "      <th>4</th>\n",
       "      <td>8.0</td>\n",
       "      <td>724.0</td>\n",
       "      <td>1.0</td>\n",
       "      <td>9.1</td>\n",
       "      <td>75.0</td>\n",
       "    </tr>\n",
       "  </tbody>\n",
       "</table>\n",
       "</div>"
      ],
      "text/plain": [
       "   free_bikes  distance  price  rating  total_ratings\n",
       "0         8.0      96.0    2.0     8.2          112.0\n",
       "1         8.0     299.0    1.0     8.7           94.0\n",
       "2         8.0     430.0    2.0     9.0          121.0\n",
       "3         8.0     225.0    1.0     8.2          199.0\n",
       "4         8.0     724.0    1.0     9.1           75.0"
      ]
     },
     "execution_count": 115,
     "metadata": {},
     "output_type": "execute_result"
    }
   ],
   "source": [
    "data_df.isnull().sum() # 848 nulls for price, 16 for rating, and 16 for total_rating\n",
    "#Due to time constraints I will remove the NaN as I have over 5000 results\n",
    "\n",
    "data_df = data_df.dropna()\n",
    "data_df.isnull().sum() # check\n",
    "data_df.info() # still have over 4500 results\n",
    "\n",
    "#drop irrelevent columns\n",
    "data_df = data_df.drop(columns=['ID', 'latitude', 'longitude', 'name', 'address'])\n",
    "data_df.head()\n"
   ]
  },
  {
   "cell_type": "code",
   "execution_count": 93,
   "metadata": {},
   "outputs": [
    {
     "data": {
      "text/html": [
       "<div>\n",
       "<style scoped>\n",
       "    .dataframe tbody tr th:only-of-type {\n",
       "        vertical-align: middle;\n",
       "    }\n",
       "\n",
       "    .dataframe tbody tr th {\n",
       "        vertical-align: top;\n",
       "    }\n",
       "\n",
       "    .dataframe thead th {\n",
       "        text-align: right;\n",
       "    }\n",
       "</style>\n",
       "<table border=\"1\" class=\"dataframe\">\n",
       "  <thead>\n",
       "    <tr style=\"text-align: right;\">\n",
       "      <th></th>\n",
       "      <th>const</th>\n",
       "      <th>price</th>\n",
       "    </tr>\n",
       "  </thead>\n",
       "  <tbody>\n",
       "    <tr>\n",
       "      <th>0</th>\n",
       "      <td>1.0</td>\n",
       "      <td>2.0</td>\n",
       "    </tr>\n",
       "    <tr>\n",
       "      <th>1</th>\n",
       "      <td>1.0</td>\n",
       "      <td>1.0</td>\n",
       "    </tr>\n",
       "    <tr>\n",
       "      <th>2</th>\n",
       "      <td>1.0</td>\n",
       "      <td>2.0</td>\n",
       "    </tr>\n",
       "    <tr>\n",
       "      <th>3</th>\n",
       "      <td>1.0</td>\n",
       "      <td>1.0</td>\n",
       "    </tr>\n",
       "    <tr>\n",
       "      <th>4</th>\n",
       "      <td>1.0</td>\n",
       "      <td>1.0</td>\n",
       "    </tr>\n",
       "    <tr>\n",
       "      <th>...</th>\n",
       "      <td>...</td>\n",
       "      <td>...</td>\n",
       "    </tr>\n",
       "    <tr>\n",
       "      <th>5451</th>\n",
       "      <td>1.0</td>\n",
       "      <td>2.0</td>\n",
       "    </tr>\n",
       "    <tr>\n",
       "      <th>5452</th>\n",
       "      <td>1.0</td>\n",
       "      <td>2.0</td>\n",
       "    </tr>\n",
       "    <tr>\n",
       "      <th>5453</th>\n",
       "      <td>1.0</td>\n",
       "      <td>2.0</td>\n",
       "    </tr>\n",
       "    <tr>\n",
       "      <th>5454</th>\n",
       "      <td>1.0</td>\n",
       "      <td>2.0</td>\n",
       "    </tr>\n",
       "    <tr>\n",
       "      <th>5455</th>\n",
       "      <td>1.0</td>\n",
       "      <td>3.0</td>\n",
       "    </tr>\n",
       "  </tbody>\n",
       "</table>\n",
       "<p>4597 rows × 2 columns</p>\n",
       "</div>"
      ],
      "text/plain": [
       "      const  price\n",
       "0       1.0    2.0\n",
       "1       1.0    1.0\n",
       "2       1.0    2.0\n",
       "3       1.0    1.0\n",
       "4       1.0    1.0\n",
       "...     ...    ...\n",
       "5451    1.0    2.0\n",
       "5452    1.0    2.0\n",
       "5453    1.0    2.0\n",
       "5454    1.0    2.0\n",
       "5455    1.0    3.0\n",
       "\n",
       "[4597 rows x 2 columns]"
      ]
     },
     "execution_count": 93,
     "metadata": {},
     "output_type": "execute_result"
    }
   ],
   "source": [
    "Y_var = data_df['free_bikes']\n",
    "my_data = data_df.drop(columns=['free_bikes'])\n",
    "X_list = []\n",
    "\n",
    "for column in my_data:\n",
    "    X_list.append(sm.add_constant(my_data[column]))\n",
    "\n",
    "X_list = [sm.add_constant(my_data[column]) for column in my_data.columns]\n",
    "\n",
    "X_list[1]\n",
    "\n"
   ]
  },
  {
   "cell_type": "code",
   "execution_count": 94,
   "metadata": {},
   "outputs": [
    {
     "name": "stdout",
     "output_type": "stream",
     "text": [
      "0.00636665493615951 const       0.000000e+00\n",
      "distance    3.616575e-08\n",
      "dtype: float64\n"
     ]
    }
   ],
   "source": [
    "num_bikes_model = sm.OLS(Y_var, X_list[0])\n",
    "num_bikes_results = num_bikes_model.fit()\n",
    "num_bikes_ajd_R2 = num_bikes_results.rsquared_adj\n",
    "num_bikes_pvalue = num_bikes_results.pvalues\n",
    "\n",
    "print(num_bikes_ajd_R2, num_bikes_pvalue)"
   ]
  },
  {
   "cell_type": "code",
   "execution_count": 95,
   "metadata": {},
   "outputs": [],
   "source": [
    "my_models = [sm.OLS(Y_var, X) for X in X_list]\n",
    "my_results = [model.fit() for model in my_models]\n",
    "my_adj_R2 = [result.rsquared_adj for result in my_results]\n",
    "my_pval = [result.pvalues for result in my_results]"
   ]
  },
  {
   "cell_type": "code",
   "execution_count": 96,
   "metadata": {},
   "outputs": [
    {
     "name": "stdout",
     "output_type": "stream",
     "text": [
      "adj_R2 : 0.00636665493615951, p-value: (0.0, 3.6165752648205854e-08) column: distance\n",
      "adj_R2 : 0.002313402272376197, p-value: (9.871333066513711e-168, 0.0006451311503806568) column: price\n",
      "adj_R2 : 0.0013292952429835303, p-value: (1.2055878679623316e-18, 0.007659986281584407) column: rating\n",
      "adj_R2 : 0.00831437861364892, p-value: (0.0, 3.5246306512662444e-10) column: total_ratings\n"
     ]
    }
   ],
   "source": [
    "for i in range(len(my_adj_R2)):\n",
    "    print(f\"adj_R2 : {my_adj_R2[i]}, p-value: {*my_pval[i],} column: {my_data.columns[i]}\")"
   ]
  },
  {
   "cell_type": "markdown",
   "metadata": {},
   "source": [
    "Total ratings appears to have the highest R2"
   ]
  },
  {
   "cell_type": "code",
   "execution_count": 97,
   "metadata": {},
   "outputs": [],
   "source": [
    "leftover_var = my_data.drop(columns=['total_ratings'], axis=1)\n",
    "included_var = my_data[['total_ratings']]\n",
    "X_list = [sm.add_constant(pd.merge(included_var, leftover_var[column], right_index = True, left_index = True)) for column in leftover_var.columns]\n"
   ]
  },
  {
   "cell_type": "code",
   "execution_count": 98,
   "metadata": {},
   "outputs": [
    {
     "name": "stdout",
     "output_type": "stream",
     "text": [
      "adj_R2 : 0.014891172928719554, p-value: (0.0, 1.8891449400358595e-10, 1.9287051588923353e-08) column: distance\n",
      "adj_R2 : 0.008804291484203364, p-value: (1.0207303120917093e-164, 2.603709704358022e-08, 0.0705737301845264) column: price\n",
      "adj_R2 : 0.009086824878443922, p-value: (3.577013652476474e-18, 1.295054742119653e-09, 0.03236312822220999) column: rating\n"
     ]
    }
   ],
   "source": [
    "my_models = [sm.OLS(Y_var, X) for X in X_list]\n",
    "my_results = [model.fit() for model in my_models]\n",
    "my_adj_R2 = [result.rsquared_adj for result in my_results]\n",
    "my_pval = [result.pvalues for result in my_results]\n",
    "\n",
    "for i in range(len(my_adj_R2)):\n",
    "    print(f\"adj_R2 : {my_adj_R2[i]}, p-value: {*my_pval[i],} column: {leftover_var.columns[i]}\")"
   ]
  },
  {
   "cell_type": "markdown",
   "metadata": {},
   "source": [
    "Distance has the highest adj R2 value"
   ]
  },
  {
   "cell_type": "code",
   "execution_count": 99,
   "metadata": {},
   "outputs": [],
   "source": [
    "leftover_var = my_data.drop(columns=['distance'], axis=1)\n",
    "included_var = my_data[['distance']]\n",
    "X_list = [sm.add_constant(pd.merge(included_var, leftover_var[column], right_index = True, left_index = True)) for column in leftover_var.columns]\n"
   ]
  },
  {
   "cell_type": "code",
   "execution_count": 100,
   "metadata": {},
   "outputs": [
    {
     "name": "stdout",
     "output_type": "stream",
     "text": [
      "adj_R2 : 0.009116877106157495, p-value: (2.4279732597041414e-158, 1.2348124527546839e-08, 0.00021088741382054992) column: price\n",
      "adj_R2 : 0.007461370842445136, p-value: (3.7863131497420057e-23, 6.22548730111034e-08, 0.013801405697980757) column: rating\n",
      "adj_R2 : 0.014891172928719554, p-value: (0.0, 1.9287051588922648e-08, 1.889144940036045e-10) column: total_ratings\n"
     ]
    }
   ],
   "source": [
    "my_models = [sm.OLS(Y_var, X) for X in X_list]\n",
    "my_results = [model.fit() for model in my_models]\n",
    "my_adj_R2 = [result.rsquared_adj for result in my_results]\n",
    "my_pval = [result.pvalues for result in my_results]\n",
    "\n",
    "for i in range(len(my_adj_R2)):\n",
    "    print(f\"adj_R2 : {my_adj_R2[i]}, p-value: {*my_pval[i],} column: {leftover_var.columns[i]}\")"
   ]
  },
  {
   "cell_type": "markdown",
   "metadata": {},
   "source": [
    "Provide model output and an interpretation of the results. "
   ]
  },
  {
   "cell_type": "code",
   "execution_count": null,
   "metadata": {},
   "outputs": [],
   "source": []
  },
  {
   "cell_type": "code",
   "execution_count": 111,
   "metadata": {},
   "outputs": [
    {
     "name": "stdout",
     "output_type": "stream",
     "text": [
      "                                 OLS Regression Results                                \n",
      "=======================================================================================\n",
      "Dep. Variable:             free_bikes   R-squared (uncentered):                   0.572\n",
      "Model:                            OLS   Adj. R-squared (uncentered):              0.572\n",
      "Method:                 Least Squares   F-statistic:                              3068.\n",
      "Date:                Sat, 02 Sep 2023   Prob (F-statistic):                        0.00\n",
      "Time:                        17:09:14   Log-Likelihood:                         -14918.\n",
      "No. Observations:                4597   AIC:                                  2.984e+04\n",
      "Df Residuals:                    4595   BIC:                                  2.985e+04\n",
      "Df Model:                           2                                                  \n",
      "Covariance Type:            nonrobust                                                  \n",
      "=================================================================================\n",
      "                    coef    std err          t      P>|t|      [0.025      0.975]\n",
      "---------------------------------------------------------------------------------\n",
      "total_ratings     0.0083      0.000     22.035      0.000       0.008       0.009\n",
      "distance          0.0092      0.000     44.026      0.000       0.009       0.010\n",
      "==============================================================================\n",
      "Omnibus:                      260.959   Durbin-Watson:                   0.482\n",
      "Prob(Omnibus):                  0.000   Jarque-Bera (JB):              318.119\n",
      "Skew:                           0.574   Prob(JB):                     8.34e-70\n",
      "Kurtosis:                       3.587   Cond. No.                         2.70\n",
      "==============================================================================\n",
      "\n",
      "Notes:\n",
      "[1] R² is computed without centering (uncentered) since the model does not contain a constant.\n",
      "[2] Standard Errors assume that the covariance matrix of the errors is correctly specified.\n"
     ]
    }
   ],
   "source": [
    "#Forward selection results\n",
    "y_var = data_df['free_bikes']\n",
    "x_var = data_df[['total_ratings', 'distance']]\n",
    "\n",
    "my_model = sm.OLS(y_var, x_var)\n",
    "results = my_model.fit()\n",
    "print(results.summary())"
   ]
  },
  {
   "cell_type": "markdown",
   "metadata": {},
   "source": [
    "The model explains only 57.2% of the variations. The independent variable coefficients are essentially negligable. The p-value indicates the variables are statistically significant."
   ]
  },
  {
   "cell_type": "code",
   "execution_count": 120,
   "metadata": {},
   "outputs": [
    {
     "name": "stdout",
     "output_type": "stream",
     "text": [
      "                            OLS Regression Results                            \n",
      "==============================================================================\n",
      "Dep. Variable:             free_bikes   R-squared:                       0.017\n",
      "Model:                            OLS   Adj. R-squared:                  0.016\n",
      "Method:                 Least Squares   F-statistic:                     20.06\n",
      "Date:                Sat, 02 Sep 2023   Prob (F-statistic):           2.14e-16\n",
      "Time:                        18:56:10   Log-Likelihood:                -14089.\n",
      "No. Observations:                4597   AIC:                         2.819e+04\n",
      "Df Residuals:                    4592   BIC:                         2.822e+04\n",
      "Df Model:                           4                                         \n",
      "Covariance Type:            nonrobust                                         \n",
      "=================================================================================\n",
      "                    coef    std err          t      P>|t|      [0.025      0.975]\n",
      "---------------------------------------------------------------------------------\n",
      "const             6.3945      0.754      8.485      0.000       4.917       7.872\n",
      "distance         -0.0017      0.000     -5.647      0.000      -0.002      -0.001\n",
      "price             0.2702      0.121      2.231      0.026       0.033       0.508\n",
      "rating            0.1780      0.086      2.075      0.038       0.010       0.346\n",
      "total_ratings     0.0019      0.000      5.355      0.000       0.001       0.003\n",
      "==============================================================================\n",
      "Omnibus:                      617.431   Durbin-Watson:                   0.209\n",
      "Prob(Omnibus):                  0.000   Jarque-Bera (JB):              939.534\n",
      "Skew:                           0.961   Prob(JB):                    9.61e-205\n",
      "Kurtosis:                       4.100   Cond. No.                     6.05e+03\n",
      "==============================================================================\n",
      "\n",
      "Notes:\n",
      "[1] Standard Errors assume that the covariance matrix of the errors is correctly specified.\n",
      "[2] The condition number is large, 6.05e+03. This might indicate that there are\n",
      "strong multicollinearity or other numerical problems.\n"
     ]
    }
   ],
   "source": [
    "#backward selection\n",
    "y_var = data_df['free_bikes']\n",
    "x_var = data_df.drop('free_bikes', axis=1)\n",
    "x_var = sm.add_constant(x_var)\n",
    "\n",
    "bw_model = sm.OLS(y_var, x_var)\n",
    "bw_results = bw_model.fit()\n",
    "print(bw_results.summary())"
   ]
  },
  {
   "cell_type": "markdown",
   "metadata": {},
   "source": [
    "What a weird result.... distance and total_ratings have 0 p-values while price and rating are still below the 0.05 threshold. I am going to remove rating to see what happens"
   ]
  },
  {
   "cell_type": "code",
   "execution_count": 121,
   "metadata": {},
   "outputs": [
    {
     "name": "stdout",
     "output_type": "stream",
     "text": [
      "                            OLS Regression Results                            \n",
      "==============================================================================\n",
      "Dep. Variable:             free_bikes   R-squared:                       0.016\n",
      "Model:                            OLS   Adj. R-squared:                  0.015\n",
      "Method:                 Least Squares   F-statistic:                     25.07\n",
      "Date:                Sat, 02 Sep 2023   Prob (F-statistic):           4.39e-16\n",
      "Time:                        19:07:12   Log-Likelihood:                -14092.\n",
      "No. Observations:                4597   AIC:                         2.819e+04\n",
      "Df Residuals:                    4593   BIC:                         2.822e+04\n",
      "Df Model:                           3                                         \n",
      "Covariance Type:            nonrobust                                         \n",
      "=================================================================================\n",
      "                    coef    std err          t      P>|t|      [0.025      0.975]\n",
      "---------------------------------------------------------------------------------\n",
      "const             6.9798      0.707      9.875      0.000       5.594       8.366\n",
      "distance         -0.0017      0.000     -5.548      0.000      -0.002      -0.001\n",
      "rating            0.1645      0.086      1.923      0.055      -0.003       0.332\n",
      "total_ratings     0.0021      0.000      6.194      0.000       0.001       0.003\n",
      "==============================================================================\n",
      "Omnibus:                      619.767   Durbin-Watson:                   0.208\n",
      "Prob(Omnibus):                  0.000   Jarque-Bera (JB):              945.259\n",
      "Skew:                           0.963   Prob(JB):                    5.49e-206\n",
      "Kurtosis:                       4.108   Cond. No.                     5.67e+03\n",
      "==============================================================================\n",
      "\n",
      "Notes:\n",
      "[1] Standard Errors assume that the covariance matrix of the errors is correctly specified.\n",
      "[2] The condition number is large, 5.67e+03. This might indicate that there are\n",
      "strong multicollinearity or other numerical problems.\n"
     ]
    }
   ],
   "source": [
    "#removed price\n",
    "y_var = data_df['free_bikes']\n",
    "x_var = data_df.drop(['free_bikes', 'price'], axis=1)\n",
    "x_var = sm.add_constant(x_var)\n",
    "\n",
    "bw_model = sm.OLS(y_var, x_var)\n",
    "bw_results = bw_model.fit()\n",
    "print(bw_results.summary())"
   ]
  },
  {
   "cell_type": "markdown",
   "metadata": {},
   "source": [
    "The adjusted R2 barely moved, but the p-value for rating did go up to 0.055 which exceeds the 0.05 threshold. I will remove that too and look at the results."
   ]
  },
  {
   "cell_type": "code",
   "execution_count": 122,
   "metadata": {},
   "outputs": [
    {
     "name": "stdout",
     "output_type": "stream",
     "text": [
      "                            OLS Regression Results                            \n",
      "==============================================================================\n",
      "Dep. Variable:             free_bikes   R-squared:                       0.015\n",
      "Model:                            OLS   Adj. R-squared:                  0.015\n",
      "Method:                 Least Squares   F-statistic:                     35.74\n",
      "Date:                Sat, 02 Sep 2023   Prob (F-statistic):           3.97e-16\n",
      "Time:                        19:09:11   Log-Likelihood:                -14094.\n",
      "No. Observations:                4597   AIC:                         2.819e+04\n",
      "Df Residuals:                    4594   BIC:                         2.821e+04\n",
      "Df Model:                           2                                         \n",
      "Covariance Type:            nonrobust                                         \n",
      "=================================================================================\n",
      "                    coef    std err          t      P>|t|      [0.025      0.975]\n",
      "---------------------------------------------------------------------------------\n",
      "const             8.2908      0.186     44.525      0.000       7.926       8.656\n",
      "distance         -0.0017      0.000     -5.628      0.000      -0.002      -0.001\n",
      "total_ratings     0.0022      0.000      6.385      0.000       0.002       0.003\n",
      "==============================================================================\n",
      "Omnibus:                      619.346   Durbin-Watson:                   0.209\n",
      "Prob(Omnibus):                  0.000   Jarque-Bera (JB):              944.383\n",
      "Skew:                           0.962   Prob(JB):                    8.51e-206\n",
      "Kurtosis:                       4.107   Cond. No.                     1.48e+03\n",
      "==============================================================================\n",
      "\n",
      "Notes:\n",
      "[1] Standard Errors assume that the covariance matrix of the errors is correctly specified.\n",
      "[2] The condition number is large, 1.48e+03. This might indicate that there are\n",
      "strong multicollinearity or other numerical problems.\n"
     ]
    }
   ],
   "source": [
    "#removed price and rating\n",
    "y_var = data_df['free_bikes']\n",
    "x_var = data_df.drop(['free_bikes', 'price', 'rating'], axis=1)\n",
    "x_var = sm.add_constant(x_var)\n",
    "\n",
    "bw_model = sm.OLS(y_var, x_var)\n",
    "bw_results = bw_model.fit()\n",
    "print(bw_results.summary())"
   ]
  },
  {
   "cell_type": "code",
   "execution_count": null,
   "metadata": {},
   "outputs": [],
   "source": []
  },
  {
   "cell_type": "markdown",
   "metadata": {},
   "source": []
  },
  {
   "cell_type": "markdown",
   "metadata": {},
   "source": [
    "# Stretch"
   ]
  },
  {
   "cell_type": "markdown",
   "metadata": {},
   "source": [
    "How can you turn the regression model into a classification model?"
   ]
  },
  {
   "cell_type": "code",
   "execution_count": null,
   "metadata": {},
   "outputs": [],
   "source": []
  }
 ],
 "metadata": {
  "kernelspec": {
   "display_name": "THE_ONE",
   "language": "python",
   "name": "the_one"
  },
  "language_info": {
   "codemirror_mode": {
    "name": "ipython",
    "version": 3
   },
   "file_extension": ".py",
   "mimetype": "text/x-python",
   "name": "python",
   "nbconvert_exporter": "python",
   "pygments_lexer": "ipython3",
   "version": "3.11.4"
  }
 },
 "nbformat": 4,
 "nbformat_minor": 4
}
