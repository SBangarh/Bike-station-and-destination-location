{
 "cells": [
  {
   "cell_type": "code",
   "execution_count": 161,
   "metadata": {},
   "outputs": [],
   "source": [
    "#imports and call stored df\n",
    "import pandas as pd\n",
    "import numpy as np\n",
    "import seaborn as sns\n",
    "import matplotlib.pyplot as plt\n",
    "from scipy import stats\n",
    "\n",
    "\n",
    "%store -r cb_df_final\n",
    "%store -r foursquare_df_final\n",
    "%store -r yelp_df_final"
   ]
  },
  {
   "cell_type": "markdown",
   "metadata": {},
   "source": [
    "Join the data from Part 1 with the data from Part 2 to create a new dataframe."
   ]
  },
  {
   "cell_type": "markdown",
   "metadata": {},
   "source": []
  },
  {
   "cell_type": "code",
   "execution_count": 224,
   "metadata": {},
   "outputs": [
    {
     "data": {
      "text/html": [
       "<div>\n",
       "<style scoped>\n",
       "    .dataframe tbody tr th:only-of-type {\n",
       "        vertical-align: middle;\n",
       "    }\n",
       "\n",
       "    .dataframe tbody tr th {\n",
       "        vertical-align: top;\n",
       "    }\n",
       "\n",
       "    .dataframe thead th {\n",
       "        text-align: right;\n",
       "    }\n",
       "</style>\n",
       "<table border=\"1\" class=\"dataframe\">\n",
       "  <thead>\n",
       "    <tr style=\"text-align: right;\">\n",
       "      <th></th>\n",
       "      <th>latitude</th>\n",
       "      <th>longitude</th>\n",
       "      <th>free_bikes</th>\n",
       "      <th>distance</th>\n",
       "      <th>name</th>\n",
       "      <th>price</th>\n",
       "      <th>rating</th>\n",
       "      <th>address</th>\n",
       "      <th>total_ratings</th>\n",
       "    </tr>\n",
       "  </thead>\n",
       "  <tbody>\n",
       "    <tr>\n",
       "      <th>0</th>\n",
       "      <td>49.262487</td>\n",
       "      <td>-123.114397</td>\n",
       "      <td>8.0</td>\n",
       "      <td>96.000000</td>\n",
       "      <td>Marulilu Cafe</td>\n",
       "      <td>2.0</td>\n",
       "      <td>8.2</td>\n",
       "      <td>451W Broadway W (at Cambie St), Vancouver BC V...</td>\n",
       "      <td>112.0</td>\n",
       "    </tr>\n",
       "    <tr>\n",
       "      <th>1</th>\n",
       "      <td>49.262487</td>\n",
       "      <td>-123.114397</td>\n",
       "      <td>8.0</td>\n",
       "      <td>299.000000</td>\n",
       "      <td>Aperture Coffee Bar</td>\n",
       "      <td>1.0</td>\n",
       "      <td>8.7</td>\n",
       "      <td>243 West Broadway (at Alberta St), Vancouver B...</td>\n",
       "      <td>94.0</td>\n",
       "    </tr>\n",
       "    <tr>\n",
       "      <th>2</th>\n",
       "      <td>49.262487</td>\n",
       "      <td>-123.114397</td>\n",
       "      <td>8.0</td>\n",
       "      <td>336.000000</td>\n",
       "      <td>Caffe Cittadella</td>\n",
       "      <td>2.0</td>\n",
       "      <td>8.6</td>\n",
       "      <td>2310 Ash St (at W 7th Ave), Vancouver BC V5Z 3C2</td>\n",
       "      <td>81.0</td>\n",
       "    </tr>\n",
       "    <tr>\n",
       "      <th>3</th>\n",
       "      <td>49.262487</td>\n",
       "      <td>-123.114397</td>\n",
       "      <td>8.0</td>\n",
       "      <td>430.000000</td>\n",
       "      <td>Milano Coffee</td>\n",
       "      <td>2.0</td>\n",
       "      <td>9.0</td>\n",
       "      <td>156 8th Ave W (btwn Columbia &amp; Manitoba St), V...</td>\n",
       "      <td>121.0</td>\n",
       "    </tr>\n",
       "    <tr>\n",
       "      <th>4</th>\n",
       "      <td>49.262487</td>\n",
       "      <td>-123.114397</td>\n",
       "      <td>8.0</td>\n",
       "      <td>250.000000</td>\n",
       "      <td>Rogue Kitchen &amp; Wetbar</td>\n",
       "      <td>3.0</td>\n",
       "      <td>8.3</td>\n",
       "      <td>602W Broadway W (at Ash St), Vancouver BC V5Z 1G1</td>\n",
       "      <td>127.0</td>\n",
       "    </tr>\n",
       "    <tr>\n",
       "      <th>...</th>\n",
       "      <td>...</td>\n",
       "      <td>...</td>\n",
       "      <td>...</td>\n",
       "      <td>...</td>\n",
       "      <td>...</td>\n",
       "      <td>...</td>\n",
       "      <td>...</td>\n",
       "      <td>...</td>\n",
       "      <td>...</td>\n",
       "    </tr>\n",
       "    <tr>\n",
       "      <th>3816</th>\n",
       "      <td>49.270783</td>\n",
       "      <td>-123.141564</td>\n",
       "      <td>18.0</td>\n",
       "      <td>541.171382</td>\n",
       "      <td>Novo Italian</td>\n",
       "      <td>2.0</td>\n",
       "      <td>8.0</td>\n",
       "      <td>2118 Burrard Street, Vancouver, BC V6J 3H6, Ca...</td>\n",
       "      <td>156.0</td>\n",
       "    </tr>\n",
       "    <tr>\n",
       "      <th>3817</th>\n",
       "      <td>49.270783</td>\n",
       "      <td>-123.141564</td>\n",
       "      <td>18.0</td>\n",
       "      <td>589.139556</td>\n",
       "      <td>Charqui</td>\n",
       "      <td>2.0</td>\n",
       "      <td>5.0</td>\n",
       "      <td>1955 Cornwall Avenue, Vancouver, BC V6J 1C9, C...</td>\n",
       "      <td>50.0</td>\n",
       "    </tr>\n",
       "    <tr>\n",
       "      <th>3818</th>\n",
       "      <td>49.270783</td>\n",
       "      <td>-123.141564</td>\n",
       "      <td>18.0</td>\n",
       "      <td>514.785326</td>\n",
       "      <td>Grapes &amp; Soda</td>\n",
       "      <td>2.0</td>\n",
       "      <td>9.0</td>\n",
       "      <td>1541 W 6th Avenue, Vancouver, BC V6J 1R1, Canada</td>\n",
       "      <td>44.0</td>\n",
       "    </tr>\n",
       "    <tr>\n",
       "      <th>3819</th>\n",
       "      <td>49.270783</td>\n",
       "      <td>-123.141564</td>\n",
       "      <td>18.0</td>\n",
       "      <td>1087.141065</td>\n",
       "      <td>Maxine's Cafe &amp; Bar</td>\n",
       "      <td>2.0</td>\n",
       "      <td>8.0</td>\n",
       "      <td>1325 Burrard Street, Vancouver, BC V6Z 2B7, Ca...</td>\n",
       "      <td>77.0</td>\n",
       "    </tr>\n",
       "    <tr>\n",
       "      <th>3820</th>\n",
       "      <td>49.270783</td>\n",
       "      <td>-123.141564</td>\n",
       "      <td>18.0</td>\n",
       "      <td>758.360382</td>\n",
       "      <td>Earls Kitchen + Bar</td>\n",
       "      <td>3.0</td>\n",
       "      <td>6.0</td>\n",
       "      <td>1601 West Broadway, Vancouver, BC V6J 1W9, Canada</td>\n",
       "      <td>190.0</td>\n",
       "    </tr>\n",
       "  </tbody>\n",
       "</table>\n",
       "<p>6240 rows × 9 columns</p>\n",
       "</div>"
      ],
      "text/plain": [
       "       latitude   longitude  free_bikes     distance                    name  \\\n",
       "0     49.262487 -123.114397         8.0    96.000000           Marulilu Cafe   \n",
       "1     49.262487 -123.114397         8.0   299.000000     Aperture Coffee Bar   \n",
       "2     49.262487 -123.114397         8.0   336.000000        Caffe Cittadella   \n",
       "3     49.262487 -123.114397         8.0   430.000000           Milano Coffee   \n",
       "4     49.262487 -123.114397         8.0   250.000000  Rogue Kitchen & Wetbar   \n",
       "...         ...         ...         ...          ...                     ...   \n",
       "3816  49.270783 -123.141564        18.0   541.171382            Novo Italian   \n",
       "3817  49.270783 -123.141564        18.0   589.139556                 Charqui   \n",
       "3818  49.270783 -123.141564        18.0   514.785326           Grapes & Soda   \n",
       "3819  49.270783 -123.141564        18.0  1087.141065     Maxine's Cafe & Bar   \n",
       "3820  49.270783 -123.141564        18.0   758.360382     Earls Kitchen + Bar   \n",
       "\n",
       "      price  rating                                            address  \\\n",
       "0       2.0     8.2  451W Broadway W (at Cambie St), Vancouver BC V...   \n",
       "1       1.0     8.7  243 West Broadway (at Alberta St), Vancouver B...   \n",
       "2       2.0     8.6   2310 Ash St (at W 7th Ave), Vancouver BC V5Z 3C2   \n",
       "3       2.0     9.0  156 8th Ave W (btwn Columbia & Manitoba St), V...   \n",
       "4       3.0     8.3  602W Broadway W (at Ash St), Vancouver BC V5Z 1G1   \n",
       "...     ...     ...                                                ...   \n",
       "3816    2.0     8.0  2118 Burrard Street, Vancouver, BC V6J 3H6, Ca...   \n",
       "3817    2.0     5.0  1955 Cornwall Avenue, Vancouver, BC V6J 1C9, C...   \n",
       "3818    2.0     9.0   1541 W 6th Avenue, Vancouver, BC V6J 1R1, Canada   \n",
       "3819    2.0     8.0  1325 Burrard Street, Vancouver, BC V6Z 2B7, Ca...   \n",
       "3820    3.0     6.0  1601 West Broadway, Vancouver, BC V6J 1W9, Canada   \n",
       "\n",
       "      total_ratings  \n",
       "0             112.0  \n",
       "1              94.0  \n",
       "2              81.0  \n",
       "3             121.0  \n",
       "4             127.0  \n",
       "...             ...  \n",
       "3816          156.0  \n",
       "3817           50.0  \n",
       "3818           44.0  \n",
       "3819           77.0  \n",
       "3820          190.0  \n",
       "\n",
       "[6240 rows x 9 columns]"
      ]
     },
     "execution_count": 224,
     "metadata": {},
     "output_type": "execute_result"
    }
   ],
   "source": [
    "#combine individually with cb\n",
    "cb_foursquare = cb_df_final.merge(foursquare_df_final, how='inner', left_on=['latitude', 'longitude'], right_on=['latitude', 'longitude'])\n",
    "cb_yelp = cb_df_final.merge(yelp_df_final, how='inner', left_on=['latitude', 'longitude'], right_on=['latitude', 'longitude'])\n",
    "\n",
    "combined_df_final = pd.concat([cb_foursquare, cb_yelp], ignore_index=False)\n",
    "\n",
    "\n",
    "#drop these columns because not common and will be difficult to replace NaN with appropriate numbers and not common among API's\n",
    "combined_df_final = combined_df_final.drop(columns=['popularity', 'total_photos', 'total_tips'])\n",
    "combined_df_final\n",
    "\n"
   ]
  },
  {
   "cell_type": "markdown",
   "metadata": {},
   "source": [
    "Provide a visualization that you used as part of your EDA process. Explain the initial pattern or relationship you discoved through this visualization. "
   ]
  },
  {
   "cell_type": "code",
   "execution_count": null,
   "metadata": {},
   "outputs": [],
   "source": [
    "#checking types\n",
    "#combined_df_final.dtypes\n",
    "\n",
    "for key in combined_df_final.keys():\n",
    "    print(combined_df_final[key].isnull())\n",
    "\n",
    "#combined_df_final['free_bikes'].isnull()\n",
    "\n",
    "#change Data types\n",
    "#column_names = ['free_bikes', 'distance', 'price', 'rating', 'total_ratings']\n",
    "#for name in column_names:\n",
    "#    combined_df_final[name].astype(int)\n",
    "\n",
    "#check\n",
    "#combined_df_final.head()"
   ]
  },
  {
   "cell_type": "code",
   "execution_count": 225,
   "metadata": {},
   "outputs": [
    {
     "data": {
      "text/plain": [
       "(6240, 9)"
      ]
     },
     "execution_count": 225,
     "metadata": {},
     "output_type": "execute_result"
    }
   ],
   "source": [
    "#check for duplicates\n",
    "combined_df_final.shape"
   ]
  },
  {
   "cell_type": "code",
   "execution_count": 226,
   "metadata": {},
   "outputs": [
    {
     "name": "stdout",
     "output_type": "stream",
     "text": [
      "number of duplicate rows: (0, 9)\n"
     ]
    }
   ],
   "source": [
    "duplicate_rows = combined_df_final[combined_df_final.duplicated()]\n",
    "print(\"number of duplicate rows:\", duplicate_rows.shape)"
   ]
  },
  {
   "cell_type": "code",
   "execution_count": 227,
   "metadata": {},
   "outputs": [
    {
     "data": {
      "text/html": [
       "<div>\n",
       "<style scoped>\n",
       "    .dataframe tbody tr th:only-of-type {\n",
       "        vertical-align: middle;\n",
       "    }\n",
       "\n",
       "    .dataframe tbody tr th {\n",
       "        vertical-align: top;\n",
       "    }\n",
       "\n",
       "    .dataframe thead th {\n",
       "        text-align: right;\n",
       "    }\n",
       "</style>\n",
       "<table border=\"1\" class=\"dataframe\">\n",
       "  <thead>\n",
       "    <tr style=\"text-align: right;\">\n",
       "      <th></th>\n",
       "      <th>latitude</th>\n",
       "      <th>longitude</th>\n",
       "      <th>free_bikes</th>\n",
       "      <th>distance</th>\n",
       "      <th>price</th>\n",
       "      <th>rating</th>\n",
       "      <th>total_ratings</th>\n",
       "    </tr>\n",
       "  </thead>\n",
       "  <tbody>\n",
       "    <tr>\n",
       "      <th>count</th>\n",
       "      <td>6240.000000</td>\n",
       "      <td>6240.000000</td>\n",
       "      <td>6240.000000</td>\n",
       "      <td>6240.000000</td>\n",
       "      <td>5269.000000</td>\n",
       "      <td>6223.000000</td>\n",
       "      <td>6223.000000</td>\n",
       "    </tr>\n",
       "    <tr>\n",
       "      <th>mean</th>\n",
       "      <td>49.272758</td>\n",
       "      <td>-123.116406</td>\n",
       "      <td>7.889103</td>\n",
       "      <td>560.222514</td>\n",
       "      <td>2.006643</td>\n",
       "      <td>8.005656</td>\n",
       "      <td>192.858107</td>\n",
       "    </tr>\n",
       "    <tr>\n",
       "      <th>std</th>\n",
       "      <td>0.011007</td>\n",
       "      <td>0.025881</td>\n",
       "      <td>5.240020</td>\n",
       "      <td>297.235209</td>\n",
       "      <td>0.656543</td>\n",
       "      <td>0.894167</td>\n",
       "      <td>216.842851</td>\n",
       "    </tr>\n",
       "    <tr>\n",
       "      <th>min</th>\n",
       "      <td>49.238105</td>\n",
       "      <td>-123.191458</td>\n",
       "      <td>0.000000</td>\n",
       "      <td>0.000000</td>\n",
       "      <td>1.000000</td>\n",
       "      <td>4.000000</td>\n",
       "      <td>0.000000</td>\n",
       "    </tr>\n",
       "    <tr>\n",
       "      <th>25%</th>\n",
       "      <td>49.264251</td>\n",
       "      <td>-123.132778</td>\n",
       "      <td>4.000000</td>\n",
       "      <td>329.041201</td>\n",
       "      <td>2.000000</td>\n",
       "      <td>7.900000</td>\n",
       "      <td>48.000000</td>\n",
       "    </tr>\n",
       "    <tr>\n",
       "      <th>50%</th>\n",
       "      <td>49.273103</td>\n",
       "      <td>-123.116963</td>\n",
       "      <td>7.000000</td>\n",
       "      <td>533.993635</td>\n",
       "      <td>2.000000</td>\n",
       "      <td>8.000000</td>\n",
       "      <td>119.000000</td>\n",
       "    </tr>\n",
       "    <tr>\n",
       "      <th>75%</th>\n",
       "      <td>49.281170</td>\n",
       "      <td>-123.100324</td>\n",
       "      <td>11.000000</td>\n",
       "      <td>787.409582</td>\n",
       "      <td>2.000000</td>\n",
       "      <td>8.700000</td>\n",
       "      <td>267.000000</td>\n",
       "    </tr>\n",
       "    <tr>\n",
       "      <th>max</th>\n",
       "      <td>49.302577</td>\n",
       "      <td>-123.035969</td>\n",
       "      <td>29.000000</td>\n",
       "      <td>1388.594226</td>\n",
       "      <td>4.000000</td>\n",
       "      <td>10.000000</td>\n",
       "      <td>2592.000000</td>\n",
       "    </tr>\n",
       "  </tbody>\n",
       "</table>\n",
       "</div>"
      ],
      "text/plain": [
       "          latitude    longitude   free_bikes     distance        price  \\\n",
       "count  6240.000000  6240.000000  6240.000000  6240.000000  5269.000000   \n",
       "mean     49.272758  -123.116406     7.889103   560.222514     2.006643   \n",
       "std       0.011007     0.025881     5.240020   297.235209     0.656543   \n",
       "min      49.238105  -123.191458     0.000000     0.000000     1.000000   \n",
       "25%      49.264251  -123.132778     4.000000   329.041201     2.000000   \n",
       "50%      49.273103  -123.116963     7.000000   533.993635     2.000000   \n",
       "75%      49.281170  -123.100324    11.000000   787.409582     2.000000   \n",
       "max      49.302577  -123.035969    29.000000  1388.594226     4.000000   \n",
       "\n",
       "            rating  total_ratings  \n",
       "count  6223.000000    6223.000000  \n",
       "mean      8.005656     192.858107  \n",
       "std       0.894167     216.842851  \n",
       "min       4.000000       0.000000  \n",
       "25%       7.900000      48.000000  \n",
       "50%       8.000000     119.000000  \n",
       "75%       8.700000     267.000000  \n",
       "max      10.000000    2592.000000  "
      ]
     },
     "execution_count": 227,
     "metadata": {},
     "output_type": "execute_result"
    }
   ],
   "source": [
    "combined_df_final.describe()\n",
    "# I have some 0 values...will do further analysis below to see quantity before determining approach"
   ]
  },
  {
   "cell_type": "code",
   "execution_count": 236,
   "metadata": {},
   "outputs": [],
   "source": [
    "# I see that my max distance is well over the 1000m radius limit, I will remove these because I am only interested for 1000m and less\n",
    "combined_df_final = combined_df_final.drop(combined_df_final[combined_df_final['distance'] > 1000].index)\n",
    "\n"
   ]
  },
  {
   "cell_type": "code",
   "execution_count": 237,
   "metadata": {},
   "outputs": [
    {
     "data": {
      "text/html": [
       "<div>\n",
       "<style scoped>\n",
       "    .dataframe tbody tr th:only-of-type {\n",
       "        vertical-align: middle;\n",
       "    }\n",
       "\n",
       "    .dataframe tbody tr th {\n",
       "        vertical-align: top;\n",
       "    }\n",
       "\n",
       "    .dataframe thead th {\n",
       "        text-align: right;\n",
       "    }\n",
       "</style>\n",
       "<table border=\"1\" class=\"dataframe\">\n",
       "  <thead>\n",
       "    <tr style=\"text-align: right;\">\n",
       "      <th></th>\n",
       "      <th>latitude</th>\n",
       "      <th>longitude</th>\n",
       "      <th>free_bikes</th>\n",
       "      <th>distance</th>\n",
       "      <th>price</th>\n",
       "      <th>rating</th>\n",
       "      <th>total_ratings</th>\n",
       "    </tr>\n",
       "  </thead>\n",
       "  <tbody>\n",
       "    <tr>\n",
       "      <th>count</th>\n",
       "      <td>5456.000000</td>\n",
       "      <td>5456.000000</td>\n",
       "      <td>5456.000000</td>\n",
       "      <td>5456.000000</td>\n",
       "      <td>4608.000000</td>\n",
       "      <td>5440.000000</td>\n",
       "      <td>5440.000000</td>\n",
       "    </tr>\n",
       "    <tr>\n",
       "      <th>mean</th>\n",
       "      <td>49.272988</td>\n",
       "      <td>-123.116463</td>\n",
       "      <td>7.905609</td>\n",
       "      <td>514.728175</td>\n",
       "      <td>2.006076</td>\n",
       "      <td>7.994614</td>\n",
       "      <td>192.051838</td>\n",
       "    </tr>\n",
       "    <tr>\n",
       "      <th>std</th>\n",
       "      <td>0.011008</td>\n",
       "      <td>0.025739</td>\n",
       "      <td>5.207348</td>\n",
       "      <td>257.380138</td>\n",
       "      <td>0.659181</td>\n",
       "      <td>0.899618</td>\n",
       "      <td>215.161401</td>\n",
       "    </tr>\n",
       "    <tr>\n",
       "      <th>min</th>\n",
       "      <td>49.238105</td>\n",
       "      <td>-123.191458</td>\n",
       "      <td>0.000000</td>\n",
       "      <td>0.000000</td>\n",
       "      <td>1.000000</td>\n",
       "      <td>4.000000</td>\n",
       "      <td>0.000000</td>\n",
       "    </tr>\n",
       "    <tr>\n",
       "      <th>25%</th>\n",
       "      <td>49.264466</td>\n",
       "      <td>-123.132677</td>\n",
       "      <td>4.000000</td>\n",
       "      <td>314.000000</td>\n",
       "      <td>2.000000</td>\n",
       "      <td>7.900000</td>\n",
       "      <td>48.000000</td>\n",
       "    </tr>\n",
       "    <tr>\n",
       "      <th>50%</th>\n",
       "      <td>49.273568</td>\n",
       "      <td>-123.116963</td>\n",
       "      <td>7.000000</td>\n",
       "      <td>502.910797</td>\n",
       "      <td>2.000000</td>\n",
       "      <td>8.000000</td>\n",
       "      <td>120.000000</td>\n",
       "    </tr>\n",
       "    <tr>\n",
       "      <th>75%</th>\n",
       "      <td>49.281506</td>\n",
       "      <td>-123.100792</td>\n",
       "      <td>11.000000</td>\n",
       "      <td>713.638349</td>\n",
       "      <td>2.000000</td>\n",
       "      <td>8.700000</td>\n",
       "      <td>266.000000</td>\n",
       "    </tr>\n",
       "    <tr>\n",
       "      <th>max</th>\n",
       "      <td>49.302577</td>\n",
       "      <td>-123.035969</td>\n",
       "      <td>29.000000</td>\n",
       "      <td>999.561524</td>\n",
       "      <td>4.000000</td>\n",
       "      <td>10.000000</td>\n",
       "      <td>2592.000000</td>\n",
       "    </tr>\n",
       "  </tbody>\n",
       "</table>\n",
       "</div>"
      ],
      "text/plain": [
       "          latitude    longitude   free_bikes     distance        price  \\\n",
       "count  5456.000000  5456.000000  5456.000000  5456.000000  4608.000000   \n",
       "mean     49.272988  -123.116463     7.905609   514.728175     2.006076   \n",
       "std       0.011008     0.025739     5.207348   257.380138     0.659181   \n",
       "min      49.238105  -123.191458     0.000000     0.000000     1.000000   \n",
       "25%      49.264466  -123.132677     4.000000   314.000000     2.000000   \n",
       "50%      49.273568  -123.116963     7.000000   502.910797     2.000000   \n",
       "75%      49.281506  -123.100792    11.000000   713.638349     2.000000   \n",
       "max      49.302577  -123.035969    29.000000   999.561524     4.000000   \n",
       "\n",
       "            rating  total_ratings  \n",
       "count  5440.000000    5440.000000  \n",
       "mean      7.994614     192.051838  \n",
       "std       0.899618     215.161401  \n",
       "min       4.000000       0.000000  \n",
       "25%       7.900000      48.000000  \n",
       "50%       8.000000     120.000000  \n",
       "75%       8.700000     266.000000  \n",
       "max      10.000000    2592.000000  "
      ]
     },
     "execution_count": 237,
     "metadata": {},
     "output_type": "execute_result"
    }
   ],
   "source": [
    "#check to see if values match\n",
    "combined_df_final.describe()"
   ]
  },
  {
   "cell_type": "code",
   "execution_count": 213,
   "metadata": {},
   "outputs": [
    {
     "name": "stdout",
     "output_type": "stream",
     "text": [
      "latitude           0\n",
      "longitude          0\n",
      "free_bikes         0\n",
      "distance           0\n",
      "name               0\n",
      "price            971\n",
      "rating            17\n",
      "address            0\n",
      "total_ratings     17\n",
      "dtype: int64\n"
     ]
    }
   ],
   "source": [
    "combined_df_final.count()\n",
    "print(combined_df_final.isnull().sum())\n"
   ]
  },
  {
   "cell_type": "code",
   "execution_count": null,
   "metadata": {},
   "outputs": [],
   "source": [
    "#price is on a scale do average may not be ideal, perhaps mode?\n",
    "#rating is on a scale so could probable do average after outliers removed, but mode is also acceptable\n",
    "# total rating is a count and likely an average once outliers are removed"
   ]
  },
  {
   "cell_type": "code",
   "execution_count": 125,
   "metadata": {},
   "outputs": [
    {
     "data": {
      "text/plain": [
       "<Axes: xlabel='distance'>"
      ]
     },
     "execution_count": 125,
     "metadata": {},
     "output_type": "execute_result"
    },
    {
     "data": {
      "image/png": "[encoded data removed]",
      "text/plain": [
       "<Figure size 640x480 with 1 Axes>"
      ]
     },
     "metadata": {},
     "output_type": "display_data"
    }
   ],
   "source": [
    "sns.boxplot(x=combined_df_final['distance'])"
   ]
  },
  {
   "cell_type": "code",
   "execution_count": 134,
   "metadata": {},
   "outputs": [
    {
     "data": {
      "text/plain": [
       "(array([105., 299.,  63.,  15.]),\n",
       " array([1.  , 1.75, 2.5 , 3.25, 4.  ]),\n",
       " <BarContainer object of 4 artists>)"
      ]
     },
     "execution_count": 134,
     "metadata": {},
     "output_type": "execute_result"
    },
    {
     "data": {
      "image/png": "[encoded data removed]",
      "text/plain": [
       "<Figure size 640x480 with 1 Axes>"
      ]
     },
     "metadata": {},
     "output_type": "display_data"
    }
   ],
   "source": [
    "plt.hist(combined_df_final['price'], bins=4)"
   ]
  },
  {
   "cell_type": "code",
   "execution_count": 132,
   "metadata": {},
   "outputs": [
    {
     "data": {
      "text/plain": [
       "<Axes: xlabel='rating'>"
      ]
     },
     "execution_count": 132,
     "metadata": {},
     "output_type": "execute_result"
    },
    {
     "data": {
      "image/png": "[encoded data removed]",
      "text/plain": [
       "<Figure size 640x480 with 1 Axes>"
      ]
     },
     "metadata": {},
     "output_type": "display_data"
    }
   ],
   "source": [
    "sns.boxplot(x=combined_df_final['rating'])"
   ]
  },
  {
   "cell_type": "code",
   "execution_count": 108,
   "metadata": {},
   "outputs": [
    {
     "data": {
      "text/plain": [
       "<Axes: xlabel='total_ratings'>"
      ]
     },
     "execution_count": 108,
     "metadata": {},
     "output_type": "execute_result"
    },
    {
     "data": {
      "image/png": "[encoded data removed]",
      "text/plain": [
       "<Figure size 640x480 with 1 Axes>"
      ]
     },
     "metadata": {},
     "output_type": "display_data"
    }
   ],
   "source": [
    "sns.boxplot(x=combined_df_final['total_ratings'])"
   ]
  },
  {
   "cell_type": "code",
   "execution_count": 238,
   "metadata": {},
   "outputs": [
    {
     "name": "stdout",
     "output_type": "stream",
     "text": [
      "latitude           0.017040\n",
      "longitude          0.031885\n",
      "free_bikes         7.000000\n",
      "distance         399.638349\n",
      "price              0.000000\n",
      "rating             0.800000\n",
      "total_ratings    218.000000\n",
      "dtype: float64\n"
     ]
    }
   ],
   "source": [
    "#removing outliers if any\n",
    "Q1 = combined_df_final.quantile(0.25, numeric_only=True)\n",
    "Q3 = combined_df_final.quantile(0.75, numeric_only=True)\n",
    "IQR = Q3 - Q1\n",
    "print(IQR)"
   ]
  },
  {
   "cell_type": "code",
   "execution_count": 243,
   "metadata": {},
   "outputs": [
    {
     "name": "stderr",
     "output_type": "stream",
     "text": [
      "/tmp/ipykernel_4755/2788703957.py:1: FutureWarning: Automatic reindexing on DataFrame vs Series comparisons is deprecated and will raise ValueError in a future version. Do `left, right = left.align(right, axis=1, copy=False)` before e.g. `left == right`\n",
      "  non_outliers_max = combined_df_final[~((combined_df_final < (Q3 + (1.5 * IQR))).any(axis=1))]\n",
      "/tmp/ipykernel_4755/2788703957.py:2: FutureWarning: Automatic reindexing on DataFrame vs Series comparisons is deprecated and will raise ValueError in a future version. Do `left, right = left.align(right, axis=1, copy=False)` before e.g. `left == right`\n",
      "  non_outliers_min = combined_df_final[~((combined_df_final < (Q1 - (1.5 * IQR))).any(axis=1))]\n"
     ]
    },
    {
     "data": {
      "text/html": [
       "<div>\n",
       "<style scoped>\n",
       "    .dataframe tbody tr th:only-of-type {\n",
       "        vertical-align: middle;\n",
       "    }\n",
       "\n",
       "    .dataframe tbody tr th {\n",
       "        vertical-align: top;\n",
       "    }\n",
       "\n",
       "    .dataframe thead th {\n",
       "        text-align: right;\n",
       "    }\n",
       "</style>\n",
       "<table border=\"1\" class=\"dataframe\">\n",
       "  <thead>\n",
       "    <tr style=\"text-align: right;\">\n",
       "      <th></th>\n",
       "      <th>latitude</th>\n",
       "      <th>longitude</th>\n",
       "      <th>free_bikes</th>\n",
       "      <th>distance</th>\n",
       "      <th>price</th>\n",
       "      <th>rating</th>\n",
       "      <th>total_ratings</th>\n",
       "    </tr>\n",
       "  </thead>\n",
       "  <tbody>\n",
       "    <tr>\n",
       "      <th>count</th>\n",
       "      <td>4164.000000</td>\n",
       "      <td>4164.000000</td>\n",
       "      <td>4164.000000</td>\n",
       "      <td>4164.000000</td>\n",
       "      <td>3371.000000</td>\n",
       "      <td>4154.000000</td>\n",
       "      <td>4154.000000</td>\n",
       "    </tr>\n",
       "    <tr>\n",
       "      <th>mean</th>\n",
       "      <td>49.273971</td>\n",
       "      <td>-123.115884</td>\n",
       "      <td>7.965658</td>\n",
       "      <td>523.848069</td>\n",
       "      <td>2.239988</td>\n",
       "      <td>8.147689</td>\n",
       "      <td>218.318488</td>\n",
       "    </tr>\n",
       "    <tr>\n",
       "      <th>std</th>\n",
       "      <td>0.010829</td>\n",
       "      <td>0.024186</td>\n",
       "      <td>5.301754</td>\n",
       "      <td>258.952045</td>\n",
       "      <td>0.528379</td>\n",
       "      <td>0.667682</td>\n",
       "      <td>233.741583</td>\n",
       "    </tr>\n",
       "    <tr>\n",
       "      <th>min</th>\n",
       "      <td>49.243375</td>\n",
       "      <td>-123.177633</td>\n",
       "      <td>0.000000</td>\n",
       "      <td>0.000000</td>\n",
       "      <td>2.000000</td>\n",
       "      <td>6.800000</td>\n",
       "      <td>6.000000</td>\n",
       "    </tr>\n",
       "    <tr>\n",
       "      <th>25%</th>\n",
       "      <td>49.265213</td>\n",
       "      <td>-123.132585</td>\n",
       "      <td>4.000000</td>\n",
       "      <td>324.000000</td>\n",
       "      <td>2.000000</td>\n",
       "      <td>8.000000</td>\n",
       "      <td>54.250000</td>\n",
       "    </tr>\n",
       "    <tr>\n",
       "      <th>50%</th>\n",
       "      <td>49.275600</td>\n",
       "      <td>-123.117894</td>\n",
       "      <td>7.000000</td>\n",
       "      <td>513.447391</td>\n",
       "      <td>2.000000</td>\n",
       "      <td>8.000000</td>\n",
       "      <td>146.000000</td>\n",
       "    </tr>\n",
       "    <tr>\n",
       "      <th>75%</th>\n",
       "      <td>49.282758</td>\n",
       "      <td>-123.100792</td>\n",
       "      <td>11.000000</td>\n",
       "      <td>727.591297</td>\n",
       "      <td>2.000000</td>\n",
       "      <td>8.700000</td>\n",
       "      <td>289.000000</td>\n",
       "    </tr>\n",
       "    <tr>\n",
       "      <th>max</th>\n",
       "      <td>49.302577</td>\n",
       "      <td>-123.035969</td>\n",
       "      <td>29.000000</td>\n",
       "      <td>999.561524</td>\n",
       "      <td>4.000000</td>\n",
       "      <td>10.000000</td>\n",
       "      <td>2592.000000</td>\n",
       "    </tr>\n",
       "  </tbody>\n",
       "</table>\n",
       "</div>"
      ],
      "text/plain": [
       "          latitude    longitude   free_bikes     distance        price  \\\n",
       "count  4164.000000  4164.000000  4164.000000  4164.000000  3371.000000   \n",
       "mean     49.273971  -123.115884     7.965658   523.848069     2.239988   \n",
       "std       0.010829     0.024186     5.301754   258.952045     0.528379   \n",
       "min      49.243375  -123.177633     0.000000     0.000000     2.000000   \n",
       "25%      49.265213  -123.132585     4.000000   324.000000     2.000000   \n",
       "50%      49.275600  -123.117894     7.000000   513.447391     2.000000   \n",
       "75%      49.282758  -123.100792    11.000000   727.591297     2.000000   \n",
       "max      49.302577  -123.035969    29.000000   999.561524     4.000000   \n",
       "\n",
       "            rating  total_ratings  \n",
       "count  4154.000000    4154.000000  \n",
       "mean      8.147689     218.318488  \n",
       "std       0.667682     233.741583  \n",
       "min       6.800000       6.000000  \n",
       "25%       8.000000      54.250000  \n",
       "50%       8.000000     146.000000  \n",
       "75%       8.700000     289.000000  \n",
       "max      10.000000    2592.000000  "
      ]
     },
     "execution_count": 243,
     "metadata": {},
     "output_type": "execute_result"
    }
   ],
   "source": [
    "#The number of outliers varies on a case by case basis\n",
    "non_outliers_max = combined_df_final[~((combined_df_final < (Q3 + (1.5 * IQR))).any(axis=1))]\n",
    "non_outliers_min = combined_df_final[~((combined_df_final < (Q1 - (1.5 * IQR))).any(axis=1))]\n",
    "no_outliers = pd.concat([non_outliers_min, non_outliers_max])\n",
    "no_outliers.describe()"
   ]
  },
  {
   "cell_type": "markdown",
   "metadata": {},
   "source": [
    "# Database"
   ]
  },
  {
   "cell_type": "code",
   "execution_count": null,
   "metadata": {},
   "outputs": [],
   "source": []
  },
  {
   "cell_type": "markdown",
   "metadata": {},
   "source": [
    "Put all your results in an SQLite3 database (remember, SQLite stores its databases as files in your local machine - make sure to create your database in your project's data/ directory!)"
   ]
  },
  {
   "cell_type": "code",
   "execution_count": null,
   "metadata": {},
   "outputs": [],
   "source": []
  },
  {
   "cell_type": "markdown",
   "metadata": {},
   "source": [
    "Look at the data before and after the join to validate your data."
   ]
  },
  {
   "cell_type": "code",
   "execution_count": null,
   "metadata": {},
   "outputs": [],
   "source": []
  }
 ],
 "metadata": {
  "kernelspec": {
   "display_name": "Python 3",
   "language": "python",
   "name": "python3"
  },
  "language_info": {
   "codemirror_mode": {
    "name": "ipython",
    "version": 3
   },
   "file_extension": ".py",
   "mimetype": "text/x-python",
   "name": "python",
   "nbconvert_exporter": "python",
   "pygments_lexer": "ipython3",
   "version": "3.8.5"
  }
 },
 "nbformat": 4,
 "nbformat_minor": 4
}
