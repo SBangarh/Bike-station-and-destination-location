{
 "cells": [
  {
   "cell_type": "code",
   "execution_count": 34,
   "metadata": {},
   "outputs": [],
   "source": [
    "#imports and call stored df\n",
    "import pandas as pd\n",
    "import numpy as np\n",
    "import seaborn as sns\n",
    "import matplotlib.pyplot as plt\n",
    "from scipy import stats\n",
    "\n",
    "\n",
    "%store -r cb_df_final\n",
    "%store -r foursquare_df_final\n",
    "%store -r yelp_df_final"
   ]
  },
  {
   "cell_type": "markdown",
   "metadata": {},
   "source": [
    "Join the data from Part 1 with the data from Part 2 to create a new dataframe."
   ]
  },
  {
   "cell_type": "markdown",
   "metadata": {},
   "source": []
  },
  {
   "cell_type": "code",
   "execution_count": null,
   "metadata": {},
   "outputs": [],
   "source": [
    "#combine individually with cb\n",
    "cb_foursquare = cb_df_final.merge(foursquare_df_final, how='inner', left_on=['latitude', 'longitude'], right_on=['latitude', 'longitude'])\n",
    "cb_yelp = cb_df_final.merge(yelp_df_final, how='inner', left_on=['latitude', 'longitude'], right_on=['latitude', 'longitude'])\n",
    "\n",
    "combined_df_final = pd.concat([cb_foursquare, cb_yelp], ignore_index=False)\n",
    "\n",
    "\n",
    "#drop these columns because not common and will be difficult to replace NaN with appropriate numbers and not common among API's\n",
    "combined_df_final = combined_df_final.drop(columns=['popularity', 'total_photos', 'total_tips'])\n",
    "combined_df_final\n",
    "\n"
   ]
  },
  {
   "cell_type": "markdown",
   "metadata": {},
   "source": [
    "**At bottom**\n",
    "Provide a visualization that you used as part of your EDA process. Explain the initial pattern or relationship you discoved through this visualization. "
   ]
  },
  {
   "cell_type": "markdown",
   "metadata": {},
   "source": [
    "Summary of code blocks belows.\n",
    "EDA:\n",
    "    - 6240 rows and 9 columns\n",
    "    - no duplicates\n",
    "    - some NaN - decided to keep them, but remove in the model building phase due to time constraints\n",
    "    - outliers were present, mostly in total_ratings\n",
    "    - some of my results had a distance greater than the 1000m specified\n",
    "    - correlation heatmap did not indicate any significant relationships between variables"
   ]
  },
  {
   "cell_type": "code",
   "execution_count": 225,
   "metadata": {},
   "outputs": [
    {
     "data": {
      "text/plain": [
       "(6240, 9)"
      ]
     },
     "execution_count": 225,
     "metadata": {},
     "output_type": "execute_result"
    }
   ],
   "source": [
    "\n",
    "combined_df_final.shape"
   ]
  },
  {
   "cell_type": "code",
   "execution_count": 226,
   "metadata": {},
   "outputs": [
    {
     "name": "stdout",
     "output_type": "stream",
     "text": [
      "number of duplicate rows: (0, 9)\n"
     ]
    }
   ],
   "source": [
    "#check for duplicates\n",
    "duplicate_rows = combined_df_final[combined_df_final.duplicated()]\n",
    "print(\"number of duplicate rows:\", duplicate_rows.shape)"
   ]
  },
  {
   "cell_type": "code",
   "execution_count": null,
   "metadata": {},
   "outputs": [],
   "source": [
    "combined_df_final.describe()\n",
    "# I have some 0 values...will do further analysis below to see quantity before determining approach"
   ]
  },
  {
   "cell_type": "code",
   "execution_count": 36,
   "metadata": {},
   "outputs": [],
   "source": [
    "# I see that my max distance is well over the 1000m radius limit, I will remove these because I am only interested for 1000m and less\n",
    "combined_df_final = combined_df_final.drop(combined_df_final[combined_df_final['distance'] > 1000].index)\n",
    "\n"
   ]
  },
  {
   "cell_type": "code",
   "execution_count": null,
   "metadata": {},
   "outputs": [],
   "source": [
    "#check to see if values match\n",
    "combined_df_final.describe()"
   ]
  },
  {
   "cell_type": "code",
   "execution_count": null,
   "metadata": {},
   "outputs": [],
   "source": [
    "combined_df_final.count()\n",
    "print(combined_df_final.isnull().sum())\n"
   ]
  },
  {
   "cell_type": "markdown",
   "metadata": {},
   "source": [
    "Graphs for data of interest"
   ]
  },
  {
   "cell_type": "code",
   "execution_count": null,
   "metadata": {},
   "outputs": [],
   "source": [
    "sns.boxplot(x=combined_df_final['distance'])"
   ]
  },
  {
   "cell_type": "code",
   "execution_count": null,
   "metadata": {},
   "outputs": [],
   "source": [
    "plt.hist(combined_df_final['price'], bins=4)"
   ]
  },
  {
   "cell_type": "code",
   "execution_count": null,
   "metadata": {},
   "outputs": [],
   "source": [
    "sns.boxplot(x=combined_df_final['rating'])"
   ]
  },
  {
   "cell_type": "code",
   "execution_count": null,
   "metadata": {},
   "outputs": [],
   "source": [
    "sns.boxplot(x=combined_df_final['total_ratings'])"
   ]
  },
  {
   "cell_type": "code",
   "execution_count": 48,
   "metadata": {},
   "outputs": [
    {
     "name": "stderr",
     "output_type": "stream",
     "text": [
      "/tmp/ipykernel_24964/3198911796.py:1: FutureWarning: The default value of numeric_only in DataFrame.corr is deprecated. In a future version, it will default to False. Select only valid columns or specify the value of numeric_only to silence this warning.\n",
      "  correlation = combined_df_final.corr()\n"
     ]
    },
    {
     "data": {
      "text/plain": [
       "<Axes: >"
      ]
     },
     "execution_count": 48,
     "metadata": {},
     "output_type": "execute_result"
    },
    {
     "data": {
      "image/png": "[encoded data removed]",
      "text/plain": [
       "<Figure size 640x480 with 2 Axes>"
      ]
     },
     "metadata": {},
     "output_type": "display_data"
    }
   ],
   "source": [
    "correlation = combined_df_final.corr()\n",
    "sns.heatmap(correlation)"
   ]
  },
  {
   "cell_type": "code",
   "execution_count": null,
   "metadata": {},
   "outputs": [],
   "source": [
    "#removing outliers if any\n",
    "Q1 = combined_df_final.quantile(0.25, numeric_only=True)\n",
    "Q3 = combined_df_final.quantile(0.75, numeric_only=True)\n",
    "IQR = Q3 - Q1\n",
    "print(IQR)"
   ]
  },
  {
   "cell_type": "code",
   "execution_count": null,
   "metadata": {},
   "outputs": [],
   "source": [
    "#The number of outliers varies on a case by case basis\n",
    "non_outliers_max = combined_df_final[~((combined_df_final < (Q3 + (1.5 * IQR))).any(axis=1))]\n",
    "non_outliers_min = combined_df_final[~((combined_df_final < (Q1 - (1.5 * IQR))).any(axis=1))]\n",
    "no_outliers = pd.concat([non_outliers_min, non_outliers_max])\n",
    "no_outliers.describe()"
   ]
  },
  {
   "cell_type": "markdown",
   "metadata": {},
   "source": [
    "Graphs for df with no NaN and outliers removed; I just wanted to see the distribution for my own interests"
   ]
  },
  {
   "cell_type": "code",
   "execution_count": 40,
   "metadata": {},
   "outputs": [],
   "source": [
    "no_outlier_NaN = no_outliers.dropna()"
   ]
  },
  {
   "cell_type": "code",
   "execution_count": 41,
   "metadata": {},
   "outputs": [
    {
     "data": {
      "text/plain": [
       "<Axes: xlabel='distance'>"
      ]
     },
     "execution_count": 41,
     "metadata": {},
     "output_type": "execute_result"
    },
    {
     "data": {
      "image/png": "[encoded data removed]",
      "text/plain": [
       "<Figure size 640x480 with 1 Axes>"
      ]
     },
     "metadata": {},
     "output_type": "display_data"
    }
   ],
   "source": [
    "sns.boxplot(x=no_outlier_NaN['distance'])"
   ]
  },
  {
   "cell_type": "code",
   "execution_count": 44,
   "metadata": {},
   "outputs": [
    {
     "data": {
      "text/plain": [
       "(array([2723.,  480.,  163.]),\n",
       " array([2.        , 2.66666667, 3.33333333, 4.        ]),\n",
       " <BarContainer object of 3 artists>)"
      ]
     },
     "execution_count": 44,
     "metadata": {},
     "output_type": "execute_result"
    },
    {
     "data": {
      "image/png": "[encoded data removed]",
      "text/plain": [
       "<Figure size 640x480 with 1 Axes>"
      ]
     },
     "metadata": {},
     "output_type": "display_data"
    }
   ],
   "source": [
    "plt.hist(no_outlier_NaN['price'], bins=3)"
   ]
  },
  {
   "cell_type": "code",
   "execution_count": 45,
   "metadata": {},
   "outputs": [
    {
     "data": {
      "text/plain": [
       "<Axes: xlabel='rating'>"
      ]
     },
     "execution_count": 45,
     "metadata": {},
     "output_type": "execute_result"
    },
    {
     "data": {
      "image/png": "[encoded data removed]",
      "text/plain": [
       "<Figure size 640x480 with 1 Axes>"
      ]
     },
     "metadata": {},
     "output_type": "display_data"
    }
   ],
   "source": [
    "sns.boxplot(x=no_outlier_NaN['rating'])"
   ]
  },
  {
   "cell_type": "code",
   "execution_count": 46,
   "metadata": {},
   "outputs": [
    {
     "data": {
      "text/plain": [
       "<Axes: xlabel='total_ratings'>"
      ]
     },
     "execution_count": 46,
     "metadata": {},
     "output_type": "execute_result"
    },
    {
     "data": {
      "image/png": "[encoded data removed]",
      "text/plain": [
       "<Figure size 640x480 with 1 Axes>"
      ]
     },
     "metadata": {},
     "output_type": "display_data"
    }
   ],
   "source": [
    "sns.boxplot(x=no_outlier_NaN['total_ratings'])"
   ]
  },
  {
   "cell_type": "code",
   "execution_count": 49,
   "metadata": {},
   "outputs": [
    {
     "name": "stderr",
     "output_type": "stream",
     "text": [
      "/tmp/ipykernel_24964/537591180.py:1: FutureWarning: The default value of numeric_only in DataFrame.corr is deprecated. In a future version, it will default to False. Select only valid columns or specify the value of numeric_only to silence this warning.\n",
      "  correlation = no_outlier_NaN.corr()\n"
     ]
    },
    {
     "data": {
      "text/plain": [
       "<Axes: >"
      ]
     },
     "execution_count": 49,
     "metadata": {},
     "output_type": "execute_result"
    },
    {
     "data": {
      "image/png": "[encoded data removed]",
      "text/plain": [
       "<Figure size 640x480 with 2 Axes>"
      ]
     },
     "metadata": {},
     "output_type": "display_data"
    }
   ],
   "source": [
    "correlation = no_outlier_NaN.corr()\n",
    "sns.heatmap(correlation)"
   ]
  },
  {
   "cell_type": "markdown",
   "metadata": {},
   "source": [
    "# Database"
   ]
  },
  {
   "cell_type": "code",
   "execution_count": 11,
   "metadata": {},
   "outputs": [],
   "source": [
    "import sqlite3\n",
    "from sqlite3 import Error\n",
    "\n",
    "def create_connection(path):\n",
    "    connection = None\n",
    "    try:\n",
    "        connection = sqlite3.connect(path)\n",
    "        print(\"connection was successful\")\n",
    "    except Error as e:\n",
    "        print(f\"The error '{e}' occurred\")\n",
    "\n",
    "    return connection"
   ]
  },
  {
   "cell_type": "code",
   "execution_count": 12,
   "metadata": {},
   "outputs": [
    {
     "name": "stdout",
     "output_type": "stream",
     "text": [
      "connection was successful\n"
     ]
    }
   ],
   "source": [
    "connection = create_connection(\"python_project.db\")"
   ]
  },
  {
   "cell_type": "markdown",
   "metadata": {},
   "source": [
    "query execution function and create table"
   ]
  },
  {
   "cell_type": "code",
   "execution_count": 13,
   "metadata": {},
   "outputs": [],
   "source": [
    "def execute_query(connection, query):\n",
    "    cursor = connection.cursor()\n",
    "    try:\n",
    "        cursor.execute(query)\n",
    "        connection.commit()\n",
    "        print(\"Query executed successfully\")\n",
    "    except Error as e:\n",
    "        print(f\"The error '{e}' occurred\")"
   ]
  },
  {
   "cell_type": "markdown",
   "metadata": {},
   "source": [
    "Put all your results in an SQLite3 database (remember, SQLite stores its databases as files in your local machine - make sure to create your database in your project's data/ directory!)"
   ]
  },
  {
   "cell_type": "code",
   "execution_count": 14,
   "metadata": {},
   "outputs": [],
   "source": [
    "def to_sql(table_name, df_name, conn):\n",
    "    df_name.to_sql(table_name, connection, if_exists='replace', index=True, index_label='ID')\n",
    "\n",
    "def read_sql(query_string):\n",
    "    return pd.read_sql(query_string, connection) #connection variable is specific to this notebook\n",
    "\n"
   ]
  },
  {
   "cell_type": "code",
   "execution_count": 30,
   "metadata": {},
   "outputs": [],
   "source": [
    "#Create Tables\n",
    "#cb_bikes df\n",
    "to_sql('city_bikes', cb_df_final, connection)\n",
    "to_sql('yelp', yelp_df_final, connection)\n",
    "to_sql('foursquare', foursquare_df_final, connection)\n",
    "to_sql('restaurants', combined_df_final, connection)\n",
    "\n"
   ]
  },
  {
   "cell_type": "code",
   "execution_count": 25,
   "metadata": {},
   "outputs": [],
   "source": [
    "# Test tables\n",
    "city_bikes = \"select * from city_bikes\"\n",
    "yelp = \"select * from yelp\"\n",
    "foursquare = \"select * from foursquare\"\n",
    "cb_yelp_foursquare = \"select * from restaurants\" "
   ]
  },
  {
   "cell_type": "markdown",
   "metadata": {},
   "source": [
    "Look at the data before and after the join to validate your data."
   ]
  },
  {
   "cell_type": "code",
   "execution_count": 17,
   "metadata": {},
   "outputs": [
    {
     "data": {
      "text/html": [
       "<div>\n",
       "<style scoped>\n",
       "    .dataframe tbody tr th:only-of-type {\n",
       "        vertical-align: middle;\n",
       "    }\n",
       "\n",
       "    .dataframe tbody tr th {\n",
       "        vertical-align: top;\n",
       "    }\n",
       "\n",
       "    .dataframe thead th {\n",
       "        text-align: right;\n",
       "    }\n",
       "</style>\n",
       "<table border=\"1\" class=\"dataframe\">\n",
       "  <thead>\n",
       "    <tr style=\"text-align: right;\">\n",
       "      <th></th>\n",
       "      <th>ID</th>\n",
       "      <th>latitude</th>\n",
       "      <th>longitude</th>\n",
       "      <th>free_bikes</th>\n",
       "    </tr>\n",
       "  </thead>\n",
       "  <tbody>\n",
       "    <tr>\n",
       "      <th>0</th>\n",
       "      <td>0</td>\n",
       "      <td>49.262487</td>\n",
       "      <td>-123.114397</td>\n",
       "      <td>8.0</td>\n",
       "    </tr>\n",
       "    <tr>\n",
       "      <th>1</th>\n",
       "      <td>1</td>\n",
       "      <td>49.274566</td>\n",
       "      <td>-123.121817</td>\n",
       "      <td>6.0</td>\n",
       "    </tr>\n",
       "    <tr>\n",
       "      <th>2</th>\n",
       "      <td>2</td>\n",
       "      <td>49.279764</td>\n",
       "      <td>-123.110154</td>\n",
       "      <td>16.0</td>\n",
       "    </tr>\n",
       "    <tr>\n",
       "      <th>3</th>\n",
       "      <td>3</td>\n",
       "      <td>49.260599</td>\n",
       "      <td>-123.113504</td>\n",
       "      <td>6.0</td>\n",
       "    </tr>\n",
       "    <tr>\n",
       "      <th>4</th>\n",
       "      <td>4</td>\n",
       "      <td>49.264215</td>\n",
       "      <td>-123.117772</td>\n",
       "      <td>7.0</td>\n",
       "    </tr>\n",
       "    <tr>\n",
       "      <th>...</th>\n",
       "      <td>...</td>\n",
       "      <td>...</td>\n",
       "      <td>...</td>\n",
       "      <td>...</td>\n",
       "    </tr>\n",
       "    <tr>\n",
       "      <th>239</th>\n",
       "      <td>239</td>\n",
       "      <td>49.285670</td>\n",
       "      <td>-123.112543</td>\n",
       "      <td>10.0</td>\n",
       "    </tr>\n",
       "    <tr>\n",
       "      <th>240</th>\n",
       "      <td>240</td>\n",
       "      <td>49.250940</td>\n",
       "      <td>-123.101306</td>\n",
       "      <td>3.0</td>\n",
       "    </tr>\n",
       "    <tr>\n",
       "      <th>241</th>\n",
       "      <td>241</td>\n",
       "      <td>49.280977</td>\n",
       "      <td>-123.035969</td>\n",
       "      <td>15.0</td>\n",
       "    </tr>\n",
       "    <tr>\n",
       "      <th>242</th>\n",
       "      <td>242</td>\n",
       "      <td>49.270783</td>\n",
       "      <td>-123.141564</td>\n",
       "      <td>18.0</td>\n",
       "    </tr>\n",
       "    <tr>\n",
       "      <th>243</th>\n",
       "      <td>243</td>\n",
       "      <td>49.264019</td>\n",
       "      <td>-123.209176</td>\n",
       "      <td>0.0</td>\n",
       "    </tr>\n",
       "  </tbody>\n",
       "</table>\n",
       "<p>244 rows × 4 columns</p>\n",
       "</div>"
      ],
      "text/plain": [
       "      ID   latitude   longitude  free_bikes\n",
       "0      0  49.262487 -123.114397         8.0\n",
       "1      1  49.274566 -123.121817         6.0\n",
       "2      2  49.279764 -123.110154        16.0\n",
       "3      3  49.260599 -123.113504         6.0\n",
       "4      4  49.264215 -123.117772         7.0\n",
       "..   ...        ...         ...         ...\n",
       "239  239  49.285670 -123.112543        10.0\n",
       "240  240  49.250940 -123.101306         3.0\n",
       "241  241  49.280977 -123.035969        15.0\n",
       "242  242  49.270783 -123.141564        18.0\n",
       "243  243  49.264019 -123.209176         0.0\n",
       "\n",
       "[244 rows x 4 columns]"
      ]
     },
     "execution_count": 17,
     "metadata": {},
     "output_type": "execute_result"
    }
   ],
   "source": [
    "#city bikes before join\n",
    "read_sql(city_bikes)"
   ]
  },
  {
   "cell_type": "code",
   "execution_count": 26,
   "metadata": {},
   "outputs": [
    {
     "data": {
      "text/html": [
       "<div>\n",
       "<style scoped>\n",
       "    .dataframe tbody tr th:only-of-type {\n",
       "        vertical-align: middle;\n",
       "    }\n",
       "\n",
       "    .dataframe tbody tr th {\n",
       "        vertical-align: top;\n",
       "    }\n",
       "\n",
       "    .dataframe thead th {\n",
       "        text-align: right;\n",
       "    }\n",
       "</style>\n",
       "<table border=\"1\" class=\"dataframe\">\n",
       "  <thead>\n",
       "    <tr style=\"text-align: right;\">\n",
       "      <th></th>\n",
       "      <th>ID</th>\n",
       "      <th>latitude</th>\n",
       "      <th>longitude</th>\n",
       "      <th>name</th>\n",
       "      <th>total_ratings</th>\n",
       "      <th>rating</th>\n",
       "      <th>price</th>\n",
       "      <th>distance</th>\n",
       "      <th>address</th>\n",
       "    </tr>\n",
       "  </thead>\n",
       "  <tbody>\n",
       "    <tr>\n",
       "      <th>0</th>\n",
       "      <td>0</td>\n",
       "      <td>49.262487</td>\n",
       "      <td>-123.114397</td>\n",
       "      <td>La Taqueria Pinche Taco Shop</td>\n",
       "      <td>682</td>\n",
       "      <td>8.0</td>\n",
       "      <td>2.0</td>\n",
       "      <td>169.517456</td>\n",
       "      <td>2450 Yukon Street, Vancouver, BC V5Z 3V6, Canada</td>\n",
       "    </tr>\n",
       "    <tr>\n",
       "      <th>1</th>\n",
       "      <td>1</td>\n",
       "      <td>49.262487</td>\n",
       "      <td>-123.114397</td>\n",
       "      <td>Cactus Club Cafe</td>\n",
       "      <td>144</td>\n",
       "      <td>7.0</td>\n",
       "      <td>2.0</td>\n",
       "      <td>221.483933</td>\n",
       "      <td>575 Broadway W, Vancouver, BC V5Z 1E6, Canada</td>\n",
       "    </tr>\n",
       "    <tr>\n",
       "      <th>2</th>\n",
       "      <td>2</td>\n",
       "      <td>49.262487</td>\n",
       "      <td>-123.114397</td>\n",
       "      <td>Anh and Chi</td>\n",
       "      <td>627</td>\n",
       "      <td>8.0</td>\n",
       "      <td>2.0</td>\n",
       "      <td>1284.210576</td>\n",
       "      <td>3388 Main Street, Vancouver, BC V5V 3M7, Canada</td>\n",
       "    </tr>\n",
       "    <tr>\n",
       "      <th>3</th>\n",
       "      <td>3</td>\n",
       "      <td>49.262487</td>\n",
       "      <td>-123.114397</td>\n",
       "      <td>Vij's Restaurant</td>\n",
       "      <td>397</td>\n",
       "      <td>8.0</td>\n",
       "      <td>3.0</td>\n",
       "      <td>547.596751</td>\n",
       "      <td>3106 Cambie Street, Vancouver, BC V5Z 2W2, Canada</td>\n",
       "    </tr>\n",
       "    <tr>\n",
       "      <th>4</th>\n",
       "      <td>4</td>\n",
       "      <td>49.262487</td>\n",
       "      <td>-123.114397</td>\n",
       "      <td>Suyo Modern Peruvian</td>\n",
       "      <td>19</td>\n",
       "      <td>9.0</td>\n",
       "      <td>NaN</td>\n",
       "      <td>1349.232719</td>\n",
       "      <td>3475 Main Street, Vancouver, BC V5V 3M9, Canada</td>\n",
       "    </tr>\n",
       "    <tr>\n",
       "      <th>...</th>\n",
       "      <td>...</td>\n",
       "      <td>...</td>\n",
       "      <td>...</td>\n",
       "      <td>...</td>\n",
       "      <td>...</td>\n",
       "      <td>...</td>\n",
       "      <td>...</td>\n",
       "      <td>...</td>\n",
       "      <td>...</td>\n",
       "    </tr>\n",
       "    <tr>\n",
       "      <th>3829</th>\n",
       "      <td>3829</td>\n",
       "      <td>49.270783</td>\n",
       "      <td>-123.141564</td>\n",
       "      <td>Novo Italian</td>\n",
       "      <td>156</td>\n",
       "      <td>8.0</td>\n",
       "      <td>2.0</td>\n",
       "      <td>541.171382</td>\n",
       "      <td>2118 Burrard Street, Vancouver, BC V6J 3H6, Ca...</td>\n",
       "    </tr>\n",
       "    <tr>\n",
       "      <th>3830</th>\n",
       "      <td>3830</td>\n",
       "      <td>49.270783</td>\n",
       "      <td>-123.141564</td>\n",
       "      <td>Charqui</td>\n",
       "      <td>50</td>\n",
       "      <td>5.0</td>\n",
       "      <td>2.0</td>\n",
       "      <td>589.139556</td>\n",
       "      <td>1955 Cornwall Avenue, Vancouver, BC V6J 1C9, C...</td>\n",
       "    </tr>\n",
       "    <tr>\n",
       "      <th>3831</th>\n",
       "      <td>3831</td>\n",
       "      <td>49.270783</td>\n",
       "      <td>-123.141564</td>\n",
       "      <td>Grapes &amp; Soda</td>\n",
       "      <td>44</td>\n",
       "      <td>9.0</td>\n",
       "      <td>2.0</td>\n",
       "      <td>514.785326</td>\n",
       "      <td>1541 W 6th Avenue, Vancouver, BC V6J 1R1, Canada</td>\n",
       "    </tr>\n",
       "    <tr>\n",
       "      <th>3832</th>\n",
       "      <td>3832</td>\n",
       "      <td>49.270783</td>\n",
       "      <td>-123.141564</td>\n",
       "      <td>Maxine's Cafe &amp; Bar</td>\n",
       "      <td>77</td>\n",
       "      <td>8.0</td>\n",
       "      <td>2.0</td>\n",
       "      <td>1087.141065</td>\n",
       "      <td>1325 Burrard Street, Vancouver, BC V6Z 2B7, Ca...</td>\n",
       "    </tr>\n",
       "    <tr>\n",
       "      <th>3833</th>\n",
       "      <td>3833</td>\n",
       "      <td>49.270783</td>\n",
       "      <td>-123.141564</td>\n",
       "      <td>Earls Kitchen + Bar</td>\n",
       "      <td>190</td>\n",
       "      <td>6.0</td>\n",
       "      <td>3.0</td>\n",
       "      <td>758.360382</td>\n",
       "      <td>1601 West Broadway, Vancouver, BC V6J 1W9, Canada</td>\n",
       "    </tr>\n",
       "  </tbody>\n",
       "</table>\n",
       "<p>3834 rows × 9 columns</p>\n",
       "</div>"
      ],
      "text/plain": [
       "        ID   latitude   longitude                          name  \\\n",
       "0        0  49.262487 -123.114397  La Taqueria Pinche Taco Shop   \n",
       "1        1  49.262487 -123.114397              Cactus Club Cafe   \n",
       "2        2  49.262487 -123.114397                   Anh and Chi   \n",
       "3        3  49.262487 -123.114397              Vij's Restaurant   \n",
       "4        4  49.262487 -123.114397          Suyo Modern Peruvian   \n",
       "...    ...        ...         ...                           ...   \n",
       "3829  3829  49.270783 -123.141564                  Novo Italian   \n",
       "3830  3830  49.270783 -123.141564                       Charqui   \n",
       "3831  3831  49.270783 -123.141564                 Grapes & Soda   \n",
       "3832  3832  49.270783 -123.141564           Maxine's Cafe & Bar   \n",
       "3833  3833  49.270783 -123.141564           Earls Kitchen + Bar   \n",
       "\n",
       "      total_ratings  rating  price     distance  \\\n",
       "0               682     8.0    2.0   169.517456   \n",
       "1               144     7.0    2.0   221.483933   \n",
       "2               627     8.0    2.0  1284.210576   \n",
       "3               397     8.0    3.0   547.596751   \n",
       "4                19     9.0    NaN  1349.232719   \n",
       "...             ...     ...    ...          ...   \n",
       "3829            156     8.0    2.0   541.171382   \n",
       "3830             50     5.0    2.0   589.139556   \n",
       "3831             44     9.0    2.0   514.785326   \n",
       "3832             77     8.0    2.0  1087.141065   \n",
       "3833            190     6.0    3.0   758.360382   \n",
       "\n",
       "                                                address  \n",
       "0      2450 Yukon Street, Vancouver, BC V5Z 3V6, Canada  \n",
       "1         575 Broadway W, Vancouver, BC V5Z 1E6, Canada  \n",
       "2       3388 Main Street, Vancouver, BC V5V 3M7, Canada  \n",
       "3     3106 Cambie Street, Vancouver, BC V5Z 2W2, Canada  \n",
       "4       3475 Main Street, Vancouver, BC V5V 3M9, Canada  \n",
       "...                                                 ...  \n",
       "3829  2118 Burrard Street, Vancouver, BC V6J 3H6, Ca...  \n",
       "3830  1955 Cornwall Avenue, Vancouver, BC V6J 1C9, C...  \n",
       "3831   1541 W 6th Avenue, Vancouver, BC V6J 1R1, Canada  \n",
       "3832  1325 Burrard Street, Vancouver, BC V6Z 2B7, Ca...  \n",
       "3833  1601 West Broadway, Vancouver, BC V6J 1W9, Canada  \n",
       "\n",
       "[3834 rows x 9 columns]"
      ]
     },
     "execution_count": 26,
     "metadata": {},
     "output_type": "execute_result"
    }
   ],
   "source": [
    "#yelp before join\n",
    "read_sql(yelp)"
   ]
  },
  {
   "cell_type": "code",
   "execution_count": 27,
   "metadata": {},
   "outputs": [
    {
     "data": {
      "text/html": [
       "<div>\n",
       "<style scoped>\n",
       "    .dataframe tbody tr th:only-of-type {\n",
       "        vertical-align: middle;\n",
       "    }\n",
       "\n",
       "    .dataframe tbody tr th {\n",
       "        vertical-align: top;\n",
       "    }\n",
       "\n",
       "    .dataframe thead th {\n",
       "        text-align: right;\n",
       "    }\n",
       "</style>\n",
       "<table border=\"1\" class=\"dataframe\">\n",
       "  <thead>\n",
       "    <tr style=\"text-align: right;\">\n",
       "      <th></th>\n",
       "      <th>ID</th>\n",
       "      <th>latitude</th>\n",
       "      <th>longitude</th>\n",
       "      <th>distance</th>\n",
       "      <th>name</th>\n",
       "      <th>popularity</th>\n",
       "      <th>price</th>\n",
       "      <th>rating</th>\n",
       "      <th>address</th>\n",
       "      <th>total_photos</th>\n",
       "      <th>total_ratings</th>\n",
       "      <th>total_tips</th>\n",
       "    </tr>\n",
       "  </thead>\n",
       "  <tbody>\n",
       "    <tr>\n",
       "      <th>0</th>\n",
       "      <td>0</td>\n",
       "      <td>49.262487</td>\n",
       "      <td>-123.114397</td>\n",
       "      <td>96</td>\n",
       "      <td>Marulilu Cafe</td>\n",
       "      <td>0.973994</td>\n",
       "      <td>2.0</td>\n",
       "      <td>8.2</td>\n",
       "      <td>451W Broadway W (at Cambie St), Vancouver BC V...</td>\n",
       "      <td>129.0</td>\n",
       "      <td>112.0</td>\n",
       "      <td>32.0</td>\n",
       "    </tr>\n",
       "    <tr>\n",
       "      <th>1</th>\n",
       "      <td>1</td>\n",
       "      <td>49.262487</td>\n",
       "      <td>-123.114397</td>\n",
       "      <td>299</td>\n",
       "      <td>Aperture Coffee Bar</td>\n",
       "      <td>0.930162</td>\n",
       "      <td>1.0</td>\n",
       "      <td>8.7</td>\n",
       "      <td>243 West Broadway (at Alberta St), Vancouver B...</td>\n",
       "      <td>72.0</td>\n",
       "      <td>94.0</td>\n",
       "      <td>29.0</td>\n",
       "    </tr>\n",
       "    <tr>\n",
       "      <th>2</th>\n",
       "      <td>2</td>\n",
       "      <td>49.262487</td>\n",
       "      <td>-123.114397</td>\n",
       "      <td>336</td>\n",
       "      <td>Caffe Cittadella</td>\n",
       "      <td>0.950162</td>\n",
       "      <td>2.0</td>\n",
       "      <td>8.6</td>\n",
       "      <td>2310 Ash St (at W 7th Ave), Vancouver BC V5Z 3C2</td>\n",
       "      <td>138.0</td>\n",
       "      <td>81.0</td>\n",
       "      <td>27.0</td>\n",
       "    </tr>\n",
       "    <tr>\n",
       "      <th>3</th>\n",
       "      <td>3</td>\n",
       "      <td>49.262487</td>\n",
       "      <td>-123.114397</td>\n",
       "      <td>430</td>\n",
       "      <td>Milano Coffee</td>\n",
       "      <td>0.977331</td>\n",
       "      <td>2.0</td>\n",
       "      <td>9.0</td>\n",
       "      <td>156 8th Ave W (btwn Columbia &amp; Manitoba St), V...</td>\n",
       "      <td>130.0</td>\n",
       "      <td>121.0</td>\n",
       "      <td>32.0</td>\n",
       "    </tr>\n",
       "    <tr>\n",
       "      <th>4</th>\n",
       "      <td>4</td>\n",
       "      <td>49.262487</td>\n",
       "      <td>-123.114397</td>\n",
       "      <td>250</td>\n",
       "      <td>Rogue Kitchen &amp; Wetbar</td>\n",
       "      <td>0.981296</td>\n",
       "      <td>3.0</td>\n",
       "      <td>8.3</td>\n",
       "      <td>602W Broadway W (at Ash St), Vancouver BC V5Z 1G1</td>\n",
       "      <td>138.0</td>\n",
       "      <td>127.0</td>\n",
       "      <td>28.0</td>\n",
       "    </tr>\n",
       "    <tr>\n",
       "      <th>...</th>\n",
       "      <td>...</td>\n",
       "      <td>...</td>\n",
       "      <td>...</td>\n",
       "      <td>...</td>\n",
       "      <td>...</td>\n",
       "      <td>...</td>\n",
       "      <td>...</td>\n",
       "      <td>...</td>\n",
       "      <td>...</td>\n",
       "      <td>...</td>\n",
       "      <td>...</td>\n",
       "      <td>...</td>\n",
       "    </tr>\n",
       "    <tr>\n",
       "      <th>2424</th>\n",
       "      <td>2424</td>\n",
       "      <td>49.270783</td>\n",
       "      <td>-123.141564</td>\n",
       "      <td>467</td>\n",
       "      <td>Siegel's Bagels</td>\n",
       "      <td>0.984881</td>\n",
       "      <td>1.0</td>\n",
       "      <td>8.8</td>\n",
       "      <td>1883 Cornwall Ave (at Cypress St), Vancouver B...</td>\n",
       "      <td>153.0</td>\n",
       "      <td>156.0</td>\n",
       "      <td>40.0</td>\n",
       "    </tr>\n",
       "    <tr>\n",
       "      <th>2425</th>\n",
       "      <td>2425</td>\n",
       "      <td>49.270783</td>\n",
       "      <td>-123.141564</td>\n",
       "      <td>509</td>\n",
       "      <td>The Liberty Distillery</td>\n",
       "      <td>0.966597</td>\n",
       "      <td>NaN</td>\n",
       "      <td>8.7</td>\n",
       "      <td>2 1494 Old Bridge St, Vancouver BC V6H 3S6</td>\n",
       "      <td>136.0</td>\n",
       "      <td>91.0</td>\n",
       "      <td>20.0</td>\n",
       "    </tr>\n",
       "    <tr>\n",
       "      <th>2426</th>\n",
       "      <td>2426</td>\n",
       "      <td>49.270783</td>\n",
       "      <td>-123.141564</td>\n",
       "      <td>525</td>\n",
       "      <td>Cheesecake Etc</td>\n",
       "      <td>0.977655</td>\n",
       "      <td>1.0</td>\n",
       "      <td>8.7</td>\n",
       "      <td>2141 Granville St (at W 6th Ave), Vancouver BC...</td>\n",
       "      <td>188.0</td>\n",
       "      <td>156.0</td>\n",
       "      <td>40.0</td>\n",
       "    </tr>\n",
       "    <tr>\n",
       "      <th>2427</th>\n",
       "      <td>2427</td>\n",
       "      <td>49.270783</td>\n",
       "      <td>-123.141564</td>\n",
       "      <td>605</td>\n",
       "      <td>Rain or Shine Ice Cream</td>\n",
       "      <td>0.980744</td>\n",
       "      <td>3.0</td>\n",
       "      <td>9.0</td>\n",
       "      <td>1926 4th Ave W (btwn Cypress &amp; Maple), Vancouv...</td>\n",
       "      <td>186.0</td>\n",
       "      <td>196.0</td>\n",
       "      <td>50.0</td>\n",
       "    </tr>\n",
       "    <tr>\n",
       "      <th>2428</th>\n",
       "      <td>2428</td>\n",
       "      <td>49.270783</td>\n",
       "      <td>-123.141564</td>\n",
       "      <td>624</td>\n",
       "      <td>Fable</td>\n",
       "      <td>0.930906</td>\n",
       "      <td>2.0</td>\n",
       "      <td>8.9</td>\n",
       "      <td>1944 4th Ave W (btwn Cypress &amp; Maple), Vancouv...</td>\n",
       "      <td>248.0</td>\n",
       "      <td>202.0</td>\n",
       "      <td>48.0</td>\n",
       "    </tr>\n",
       "  </tbody>\n",
       "</table>\n",
       "<p>2429 rows × 12 columns</p>\n",
       "</div>"
      ],
      "text/plain": [
       "        ID   latitude   longitude  distance                     name  \\\n",
       "0        0  49.262487 -123.114397        96            Marulilu Cafe   \n",
       "1        1  49.262487 -123.114397       299      Aperture Coffee Bar   \n",
       "2        2  49.262487 -123.114397       336         Caffe Cittadella   \n",
       "3        3  49.262487 -123.114397       430            Milano Coffee   \n",
       "4        4  49.262487 -123.114397       250   Rogue Kitchen & Wetbar   \n",
       "...    ...        ...         ...       ...                      ...   \n",
       "2424  2424  49.270783 -123.141564       467          Siegel's Bagels   \n",
       "2425  2425  49.270783 -123.141564       509   The Liberty Distillery   \n",
       "2426  2426  49.270783 -123.141564       525           Cheesecake Etc   \n",
       "2427  2427  49.270783 -123.141564       605  Rain or Shine Ice Cream   \n",
       "2428  2428  49.270783 -123.141564       624                    Fable   \n",
       "\n",
       "      popularity  price  rating  \\\n",
       "0       0.973994    2.0     8.2   \n",
       "1       0.930162    1.0     8.7   \n",
       "2       0.950162    2.0     8.6   \n",
       "3       0.977331    2.0     9.0   \n",
       "4       0.981296    3.0     8.3   \n",
       "...          ...    ...     ...   \n",
       "2424    0.984881    1.0     8.8   \n",
       "2425    0.966597    NaN     8.7   \n",
       "2426    0.977655    1.0     8.7   \n",
       "2427    0.980744    3.0     9.0   \n",
       "2428    0.930906    2.0     8.9   \n",
       "\n",
       "                                                address  total_photos  \\\n",
       "0     451W Broadway W (at Cambie St), Vancouver BC V...         129.0   \n",
       "1     243 West Broadway (at Alberta St), Vancouver B...          72.0   \n",
       "2      2310 Ash St (at W 7th Ave), Vancouver BC V5Z 3C2         138.0   \n",
       "3     156 8th Ave W (btwn Columbia & Manitoba St), V...         130.0   \n",
       "4     602W Broadway W (at Ash St), Vancouver BC V5Z 1G1         138.0   \n",
       "...                                                 ...           ...   \n",
       "2424  1883 Cornwall Ave (at Cypress St), Vancouver B...         153.0   \n",
       "2425         2 1494 Old Bridge St, Vancouver BC V6H 3S6         136.0   \n",
       "2426  2141 Granville St (at W 6th Ave), Vancouver BC...         188.0   \n",
       "2427  1926 4th Ave W (btwn Cypress & Maple), Vancouv...         186.0   \n",
       "2428  1944 4th Ave W (btwn Cypress & Maple), Vancouv...         248.0   \n",
       "\n",
       "      total_ratings  total_tips  \n",
       "0             112.0        32.0  \n",
       "1              94.0        29.0  \n",
       "2              81.0        27.0  \n",
       "3             121.0        32.0  \n",
       "4             127.0        28.0  \n",
       "...             ...         ...  \n",
       "2424          156.0        40.0  \n",
       "2425           91.0        20.0  \n",
       "2426          156.0        40.0  \n",
       "2427          196.0        50.0  \n",
       "2428          202.0        48.0  \n",
       "\n",
       "[2429 rows x 12 columns]"
      ]
     },
     "execution_count": 27,
     "metadata": {},
     "output_type": "execute_result"
    }
   ],
   "source": [
    "#foursquare before join\n",
    "read_sql(foursquare)"
   ]
  },
  {
   "cell_type": "code",
   "execution_count": 31,
   "metadata": {},
   "outputs": [
    {
     "data": {
      "text/html": [
       "<div>\n",
       "<style scoped>\n",
       "    .dataframe tbody tr th:only-of-type {\n",
       "        vertical-align: middle;\n",
       "    }\n",
       "\n",
       "    .dataframe tbody tr th {\n",
       "        vertical-align: top;\n",
       "    }\n",
       "\n",
       "    .dataframe thead th {\n",
       "        text-align: right;\n",
       "    }\n",
       "</style>\n",
       "<table border=\"1\" class=\"dataframe\">\n",
       "  <thead>\n",
       "    <tr style=\"text-align: right;\">\n",
       "      <th></th>\n",
       "      <th>ID</th>\n",
       "      <th>latitude</th>\n",
       "      <th>longitude</th>\n",
       "      <th>free_bikes</th>\n",
       "      <th>distance</th>\n",
       "      <th>name</th>\n",
       "      <th>price</th>\n",
       "      <th>rating</th>\n",
       "      <th>address</th>\n",
       "      <th>total_ratings</th>\n",
       "    </tr>\n",
       "  </thead>\n",
       "  <tbody>\n",
       "    <tr>\n",
       "      <th>0</th>\n",
       "      <td>0</td>\n",
       "      <td>49.262487</td>\n",
       "      <td>-123.114397</td>\n",
       "      <td>8.0</td>\n",
       "      <td>96.000000</td>\n",
       "      <td>Marulilu Cafe</td>\n",
       "      <td>2.0</td>\n",
       "      <td>8.2</td>\n",
       "      <td>451W Broadway W (at Cambie St), Vancouver BC V...</td>\n",
       "      <td>112.0</td>\n",
       "    </tr>\n",
       "    <tr>\n",
       "      <th>1</th>\n",
       "      <td>1</td>\n",
       "      <td>49.262487</td>\n",
       "      <td>-123.114397</td>\n",
       "      <td>8.0</td>\n",
       "      <td>299.000000</td>\n",
       "      <td>Aperture Coffee Bar</td>\n",
       "      <td>1.0</td>\n",
       "      <td>8.7</td>\n",
       "      <td>243 West Broadway (at Alberta St), Vancouver B...</td>\n",
       "      <td>94.0</td>\n",
       "    </tr>\n",
       "    <tr>\n",
       "      <th>2</th>\n",
       "      <td>3</td>\n",
       "      <td>49.262487</td>\n",
       "      <td>-123.114397</td>\n",
       "      <td>8.0</td>\n",
       "      <td>430.000000</td>\n",
       "      <td>Milano Coffee</td>\n",
       "      <td>2.0</td>\n",
       "      <td>9.0</td>\n",
       "      <td>156 8th Ave W (btwn Columbia &amp; Manitoba St), V...</td>\n",
       "      <td>121.0</td>\n",
       "    </tr>\n",
       "    <tr>\n",
       "      <th>3</th>\n",
       "      <td>5</td>\n",
       "      <td>49.262487</td>\n",
       "      <td>-123.114397</td>\n",
       "      <td>8.0</td>\n",
       "      <td>225.000000</td>\n",
       "      <td>Elysian Coffee Broadway</td>\n",
       "      <td>1.0</td>\n",
       "      <td>8.2</td>\n",
       "      <td>590 Broadway W (at Ash St), Vancouver BC V5Z 1E9</td>\n",
       "      <td>199.0</td>\n",
       "    </tr>\n",
       "    <tr>\n",
       "      <th>4</th>\n",
       "      <td>8</td>\n",
       "      <td>49.262487</td>\n",
       "      <td>-123.114397</td>\n",
       "      <td>8.0</td>\n",
       "      <td>724.000000</td>\n",
       "      <td>Elysian Coffee</td>\n",
       "      <td>1.0</td>\n",
       "      <td>9.1</td>\n",
       "      <td>2301 Ontario St (at 7th Ave), Vancouver BC V5T...</td>\n",
       "      <td>75.0</td>\n",
       "    </tr>\n",
       "    <tr>\n",
       "      <th>...</th>\n",
       "      <td>...</td>\n",
       "      <td>...</td>\n",
       "      <td>...</td>\n",
       "      <td>...</td>\n",
       "      <td>...</td>\n",
       "      <td>...</td>\n",
       "      <td>...</td>\n",
       "      <td>...</td>\n",
       "      <td>...</td>\n",
       "      <td>...</td>\n",
       "    </tr>\n",
       "    <tr>\n",
       "      <th>5451</th>\n",
       "      <td>3815</td>\n",
       "      <td>49.270783</td>\n",
       "      <td>-123.141564</td>\n",
       "      <td>18.0</td>\n",
       "      <td>763.432982</td>\n",
       "      <td>Their There</td>\n",
       "      <td>2.0</td>\n",
       "      <td>8.0</td>\n",
       "      <td>2042 West 4th Avenue, Vancouver, BC V6J 1M9, C...</td>\n",
       "      <td>113.0</td>\n",
       "    </tr>\n",
       "    <tr>\n",
       "      <th>5452</th>\n",
       "      <td>3816</td>\n",
       "      <td>49.270783</td>\n",
       "      <td>-123.141564</td>\n",
       "      <td>18.0</td>\n",
       "      <td>541.171382</td>\n",
       "      <td>Novo Italian</td>\n",
       "      <td>2.0</td>\n",
       "      <td>8.0</td>\n",
       "      <td>2118 Burrard Street, Vancouver, BC V6J 3H6, Ca...</td>\n",
       "      <td>156.0</td>\n",
       "    </tr>\n",
       "    <tr>\n",
       "      <th>5453</th>\n",
       "      <td>3817</td>\n",
       "      <td>49.270783</td>\n",
       "      <td>-123.141564</td>\n",
       "      <td>18.0</td>\n",
       "      <td>589.139556</td>\n",
       "      <td>Charqui</td>\n",
       "      <td>2.0</td>\n",
       "      <td>5.0</td>\n",
       "      <td>1955 Cornwall Avenue, Vancouver, BC V6J 1C9, C...</td>\n",
       "      <td>50.0</td>\n",
       "    </tr>\n",
       "    <tr>\n",
       "      <th>5454</th>\n",
       "      <td>3818</td>\n",
       "      <td>49.270783</td>\n",
       "      <td>-123.141564</td>\n",
       "      <td>18.0</td>\n",
       "      <td>514.785326</td>\n",
       "      <td>Grapes &amp; Soda</td>\n",
       "      <td>2.0</td>\n",
       "      <td>9.0</td>\n",
       "      <td>1541 W 6th Avenue, Vancouver, BC V6J 1R1, Canada</td>\n",
       "      <td>44.0</td>\n",
       "    </tr>\n",
       "    <tr>\n",
       "      <th>5455</th>\n",
       "      <td>3820</td>\n",
       "      <td>49.270783</td>\n",
       "      <td>-123.141564</td>\n",
       "      <td>18.0</td>\n",
       "      <td>758.360382</td>\n",
       "      <td>Earls Kitchen + Bar</td>\n",
       "      <td>3.0</td>\n",
       "      <td>6.0</td>\n",
       "      <td>1601 West Broadway, Vancouver, BC V6J 1W9, Canada</td>\n",
       "      <td>190.0</td>\n",
       "    </tr>\n",
       "  </tbody>\n",
       "</table>\n",
       "<p>5456 rows × 10 columns</p>\n",
       "</div>"
      ],
      "text/plain": [
       "        ID   latitude   longitude  free_bikes    distance  \\\n",
       "0        0  49.262487 -123.114397         8.0   96.000000   \n",
       "1        1  49.262487 -123.114397         8.0  299.000000   \n",
       "2        3  49.262487 -123.114397         8.0  430.000000   \n",
       "3        5  49.262487 -123.114397         8.0  225.000000   \n",
       "4        8  49.262487 -123.114397         8.0  724.000000   \n",
       "...    ...        ...         ...         ...         ...   \n",
       "5451  3815  49.270783 -123.141564        18.0  763.432982   \n",
       "5452  3816  49.270783 -123.141564        18.0  541.171382   \n",
       "5453  3817  49.270783 -123.141564        18.0  589.139556   \n",
       "5454  3818  49.270783 -123.141564        18.0  514.785326   \n",
       "5455  3820  49.270783 -123.141564        18.0  758.360382   \n",
       "\n",
       "                         name  price  rating  \\\n",
       "0               Marulilu Cafe    2.0     8.2   \n",
       "1         Aperture Coffee Bar    1.0     8.7   \n",
       "2               Milano Coffee    2.0     9.0   \n",
       "3     Elysian Coffee Broadway    1.0     8.2   \n",
       "4              Elysian Coffee    1.0     9.1   \n",
       "...                       ...    ...     ...   \n",
       "5451              Their There    2.0     8.0   \n",
       "5452             Novo Italian    2.0     8.0   \n",
       "5453                  Charqui    2.0     5.0   \n",
       "5454            Grapes & Soda    2.0     9.0   \n",
       "5455      Earls Kitchen + Bar    3.0     6.0   \n",
       "\n",
       "                                                address  total_ratings  \n",
       "0     451W Broadway W (at Cambie St), Vancouver BC V...          112.0  \n",
       "1     243 West Broadway (at Alberta St), Vancouver B...           94.0  \n",
       "2     156 8th Ave W (btwn Columbia & Manitoba St), V...          121.0  \n",
       "3      590 Broadway W (at Ash St), Vancouver BC V5Z 1E9          199.0  \n",
       "4     2301 Ontario St (at 7th Ave), Vancouver BC V5T...           75.0  \n",
       "...                                                 ...            ...  \n",
       "5451  2042 West 4th Avenue, Vancouver, BC V6J 1M9, C...          113.0  \n",
       "5452  2118 Burrard Street, Vancouver, BC V6J 3H6, Ca...          156.0  \n",
       "5453  1955 Cornwall Avenue, Vancouver, BC V6J 1C9, C...           50.0  \n",
       "5454   1541 W 6th Avenue, Vancouver, BC V6J 1R1, Canada           44.0  \n",
       "5455  1601 West Broadway, Vancouver, BC V6J 1W9, Canada          190.0  \n",
       "\n",
       "[5456 rows x 10 columns]"
      ]
     },
     "execution_count": 31,
     "metadata": {},
     "output_type": "execute_result"
    }
   ],
   "source": [
    "##combined data\n",
    "read_sql(cb_yelp_foursquare)"
   ]
  },
  {
   "cell_type": "code",
   "execution_count": 32,
   "metadata": {},
   "outputs": [
    {
     "data": {
      "text/html": [
       "<div>\n",
       "<style scoped>\n",
       "    .dataframe tbody tr th:only-of-type {\n",
       "        vertical-align: middle;\n",
       "    }\n",
       "\n",
       "    .dataframe tbody tr th {\n",
       "        vertical-align: top;\n",
       "    }\n",
       "\n",
       "    .dataframe thead th {\n",
       "        text-align: right;\n",
       "    }\n",
       "</style>\n",
       "<table border=\"1\" class=\"dataframe\">\n",
       "  <thead>\n",
       "    <tr style=\"text-align: right;\">\n",
       "      <th></th>\n",
       "      <th>cid</th>\n",
       "      <th>name</th>\n",
       "      <th>type</th>\n",
       "      <th>notnull</th>\n",
       "      <th>dflt_value</th>\n",
       "      <th>pk</th>\n",
       "    </tr>\n",
       "  </thead>\n",
       "  <tbody>\n",
       "    <tr>\n",
       "      <th>0</th>\n",
       "      <td>0</td>\n",
       "      <td>ID</td>\n",
       "      <td>INTEGER</td>\n",
       "      <td>0</td>\n",
       "      <td>None</td>\n",
       "      <td>0</td>\n",
       "    </tr>\n",
       "    <tr>\n",
       "      <th>1</th>\n",
       "      <td>1</td>\n",
       "      <td>latitude</td>\n",
       "      <td>REAL</td>\n",
       "      <td>0</td>\n",
       "      <td>None</td>\n",
       "      <td>0</td>\n",
       "    </tr>\n",
       "    <tr>\n",
       "      <th>2</th>\n",
       "      <td>2</td>\n",
       "      <td>longitude</td>\n",
       "      <td>REAL</td>\n",
       "      <td>0</td>\n",
       "      <td>None</td>\n",
       "      <td>0</td>\n",
       "    </tr>\n",
       "    <tr>\n",
       "      <th>3</th>\n",
       "      <td>3</td>\n",
       "      <td>free_bikes</td>\n",
       "      <td>REAL</td>\n",
       "      <td>0</td>\n",
       "      <td>None</td>\n",
       "      <td>0</td>\n",
       "    </tr>\n",
       "    <tr>\n",
       "      <th>4</th>\n",
       "      <td>4</td>\n",
       "      <td>distance</td>\n",
       "      <td>REAL</td>\n",
       "      <td>0</td>\n",
       "      <td>None</td>\n",
       "      <td>0</td>\n",
       "    </tr>\n",
       "    <tr>\n",
       "      <th>5</th>\n",
       "      <td>5</td>\n",
       "      <td>name</td>\n",
       "      <td>TEXT</td>\n",
       "      <td>0</td>\n",
       "      <td>None</td>\n",
       "      <td>0</td>\n",
       "    </tr>\n",
       "    <tr>\n",
       "      <th>6</th>\n",
       "      <td>6</td>\n",
       "      <td>price</td>\n",
       "      <td>REAL</td>\n",
       "      <td>0</td>\n",
       "      <td>None</td>\n",
       "      <td>0</td>\n",
       "    </tr>\n",
       "    <tr>\n",
       "      <th>7</th>\n",
       "      <td>7</td>\n",
       "      <td>rating</td>\n",
       "      <td>REAL</td>\n",
       "      <td>0</td>\n",
       "      <td>None</td>\n",
       "      <td>0</td>\n",
       "    </tr>\n",
       "    <tr>\n",
       "      <th>8</th>\n",
       "      <td>8</td>\n",
       "      <td>address</td>\n",
       "      <td>TEXT</td>\n",
       "      <td>0</td>\n",
       "      <td>None</td>\n",
       "      <td>0</td>\n",
       "    </tr>\n",
       "    <tr>\n",
       "      <th>9</th>\n",
       "      <td>9</td>\n",
       "      <td>total_ratings</td>\n",
       "      <td>REAL</td>\n",
       "      <td>0</td>\n",
       "      <td>None</td>\n",
       "      <td>0</td>\n",
       "    </tr>\n",
       "  </tbody>\n",
       "</table>\n",
       "</div>"
      ],
      "text/plain": [
       "   cid           name     type  notnull dflt_value  pk\n",
       "0    0             ID  INTEGER        0       None   0\n",
       "1    1       latitude     REAL        0       None   0\n",
       "2    2      longitude     REAL        0       None   0\n",
       "3    3     free_bikes     REAL        0       None   0\n",
       "4    4       distance     REAL        0       None   0\n",
       "5    5           name     TEXT        0       None   0\n",
       "6    6          price     REAL        0       None   0\n",
       "7    7         rating     REAL        0       None   0\n",
       "8    8        address     TEXT        0       None   0\n",
       "9    9  total_ratings     REAL        0       None   0"
      ]
     },
     "execution_count": 32,
     "metadata": {},
     "output_type": "execute_result"
    }
   ],
   "source": [
    "#datatypes for cb_yelp_foursquare\n",
    "pd.read_sql(\"PRAGMA TABLE_INFO(restaurants)\", connection)\n"
   ]
  },
  {
   "cell_type": "code",
   "execution_count": null,
   "metadata": {},
   "outputs": [],
   "source": []
  }
 ],
 "metadata": {
  "kernelspec": {
   "display_name": "THE_ONE",
   "language": "python",
   "name": "the_one"
  },
  "language_info": {
   "codemirror_mode": {
    "name": "ipython",
    "version": 3
   },
   "file_extension": ".py",
   "mimetype": "text/x-python",
   "name": "python",
   "nbconvert_exporter": "python",
   "pygments_lexer": "ipython3",
   "version": "3.11.4"
  }
 },
 "nbformat": 4,
 "nbformat_minor": 4
}
