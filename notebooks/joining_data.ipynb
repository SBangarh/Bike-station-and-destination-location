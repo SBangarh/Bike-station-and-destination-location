{
 "cells": [
  {
   "cell_type": "code",
   "execution_count": 84,
   "metadata": {},
   "outputs": [],
   "source": [
    "#imports and call stored df\n",
    "import pandas as pd\n",
    "import numpy as np\n",
    "import seaborn as sns\n",
    "import matplotlib as plt\n",
    "from scipy import stats\n",
    "\n",
    "\n",
    "%store -r cb_df_final\n",
    "%store -r foursquare_df_final\n",
    "%store -r yelp_df_final"
   ]
  },
  {
   "cell_type": "markdown",
   "metadata": {},
   "source": [
    "Join the data from Part 1 with the data from Part 2 to create a new dataframe."
   ]
  },
  {
   "cell_type": "markdown",
   "metadata": {},
   "source": []
  },
  {
   "cell_type": "code",
   "execution_count": 102,
   "metadata": {},
   "outputs": [],
   "source": [
    "#combine individually with cb then together\n",
    "cb_foursquare = cb_df_final.merge(foursquare_df_final, how='outer', left_on=['latitude', 'longitude'], right_on=['latitude', 'longitude'])\n",
    "cb_yelp = cb_df_final.merge(yelp_df_final, how='outer', left_on=['latitude', 'longitude'], right_on=['latitude', 'longitude'])\n",
    "#combined_df_final = cb_foursquare.merge(yelp_df_final, how='outer', left_on=['latitude', 'longitude', 'name', 'distance'], right_on=['latitude', 'longitude', 'name', 'distance'])\n",
    "combined_df_final = pd.concat([cb_foursquare, cb_yelp], ignore_index=True)\n",
    "\n",
    "#drop these columns because not common and will be difficult to replace NaN with appropriate numbers\n",
    "combined_df_final = combined_df_final.drop(columns=['popularity', 'total_photos', 'total_tips'])\n"
   ]
  },
  {
   "cell_type": "markdown",
   "metadata": {},
   "source": [
    "Provide a visualization that you used as part of your EDA process. Explain the initial pattern or relationship you discoved through this visualization. "
   ]
  },
  {
   "cell_type": "code",
   "execution_count": 93,
   "metadata": {},
   "outputs": [
    {
     "data": {
      "text/plain": [
       "latitude         float64\n",
       "longitude        float64\n",
       "free_bikes       float64\n",
       "distance         float64\n",
       "name              object\n",
       "price            float64\n",
       "rating           float64\n",
       "address           object\n",
       "total_ratings    float64\n",
       "dtype: object"
      ]
     },
     "execution_count": 93,
     "metadata": {},
     "output_type": "execute_result"
    }
   ],
   "source": [
    "#checking types\n",
    "combined_df_final.dtypes"
   ]
  },
  {
   "cell_type": "code",
   "execution_count": 103,
   "metadata": {},
   "outputs": [
    {
     "data": {
      "text/html": [
       "<div>\n",
       "<style scoped>\n",
       "    .dataframe tbody tr th:only-of-type {\n",
       "        vertical-align: middle;\n",
       "    }\n",
       "\n",
       "    .dataframe tbody tr th {\n",
       "        vertical-align: top;\n",
       "    }\n",
       "\n",
       "    .dataframe thead th {\n",
       "        text-align: right;\n",
       "    }\n",
       "</style>\n",
       "<table border=\"1\" class=\"dataframe\">\n",
       "  <thead>\n",
       "    <tr style=\"text-align: right;\">\n",
       "      <th></th>\n",
       "      <th>latitude</th>\n",
       "      <th>longitude</th>\n",
       "      <th>free_bikes</th>\n",
       "      <th>distance</th>\n",
       "      <th>name</th>\n",
       "      <th>price</th>\n",
       "      <th>rating</th>\n",
       "      <th>address</th>\n",
       "      <th>total_ratings</th>\n",
       "    </tr>\n",
       "  </thead>\n",
       "  <tbody>\n",
       "    <tr>\n",
       "      <th>0</th>\n",
       "      <td>49.262487</td>\n",
       "      <td>-123.114397</td>\n",
       "      <td>8.0</td>\n",
       "      <td>779.000000</td>\n",
       "      <td>The Juice Truck</td>\n",
       "      <td>1.0</td>\n",
       "      <td>9.1</td>\n",
       "      <td>28 5th Ave W (btwn Manitoba &amp; Ontario), Vancou...</td>\n",
       "      <td>38.0</td>\n",
       "    </tr>\n",
       "    <tr>\n",
       "      <th>1</th>\n",
       "      <td>49.274566</td>\n",
       "      <td>-123.121817</td>\n",
       "      <td>6.0</td>\n",
       "      <td>286.000000</td>\n",
       "      <td>The Keg Steakhouse + Bar - Yaletown</td>\n",
       "      <td>3.0</td>\n",
       "      <td>8.2</td>\n",
       "      <td>1011 Mainland St (at Nelson St), Vancouver BC ...</td>\n",
       "      <td>210.0</td>\n",
       "    </tr>\n",
       "    <tr>\n",
       "      <th>2</th>\n",
       "      <td>49.279764</td>\n",
       "      <td>-123.110154</td>\n",
       "      <td>16.0</td>\n",
       "      <td>512.000000</td>\n",
       "      <td>Pourhouse Restaurant</td>\n",
       "      <td>2.0</td>\n",
       "      <td>9.0</td>\n",
       "      <td>162 Water St (btwn Cambie &amp; Abbott), Vancouver...</td>\n",
       "      <td>380.0</td>\n",
       "    </tr>\n",
       "    <tr>\n",
       "      <th>3</th>\n",
       "      <td>49.260599</td>\n",
       "      <td>-123.113504</td>\n",
       "      <td>6.0</td>\n",
       "      <td>618.000000</td>\n",
       "      <td>Rain or Shine</td>\n",
       "      <td>1.0</td>\n",
       "      <td>8.6</td>\n",
       "      <td>3382 Cambie St (18th Ave), Vancouver BC V5Z 2W5</td>\n",
       "      <td>78.0</td>\n",
       "    </tr>\n",
       "    <tr>\n",
       "      <th>4</th>\n",
       "      <td>49.264215</td>\n",
       "      <td>-123.117772</td>\n",
       "      <td>7.0</td>\n",
       "      <td>921.000000</td>\n",
       "      <td>The Juice Truck</td>\n",
       "      <td>1.0</td>\n",
       "      <td>9.1</td>\n",
       "      <td>28 5th Ave W (btwn Manitoba &amp; Ontario), Vancou...</td>\n",
       "      <td>38.0</td>\n",
       "    </tr>\n",
       "    <tr>\n",
       "      <th>...</th>\n",
       "      <td>...</td>\n",
       "      <td>...</td>\n",
       "      <td>...</td>\n",
       "      <td>...</td>\n",
       "      <td>...</td>\n",
       "      <td>...</td>\n",
       "      <td>...</td>\n",
       "      <td>...</td>\n",
       "      <td>...</td>\n",
       "    </tr>\n",
       "    <tr>\n",
       "      <th>483</th>\n",
       "      <td>49.247204</td>\n",
       "      <td>-123.101549</td>\n",
       "      <td>2.0</td>\n",
       "      <td>390.279951</td>\n",
       "      <td>Portland Craft</td>\n",
       "      <td>2.0</td>\n",
       "      <td>6.0</td>\n",
       "      <td>[3835 Main Street, Vancouver, BC V5V 3N9, Canada]</td>\n",
       "      <td>191.0</td>\n",
       "    </tr>\n",
       "    <tr>\n",
       "      <th>484</th>\n",
       "      <td>49.285670</td>\n",
       "      <td>-123.112543</td>\n",
       "      <td>10.0</td>\n",
       "      <td>623.441425</td>\n",
       "      <td>Showcase Restaurant &amp; Bar</td>\n",
       "      <td>2.0</td>\n",
       "      <td>8.0</td>\n",
       "      <td>[1122 West Hastings Street, Vancouver, BC V6E ...</td>\n",
       "      <td>128.0</td>\n",
       "    </tr>\n",
       "    <tr>\n",
       "      <th>485</th>\n",
       "      <td>49.250940</td>\n",
       "      <td>-123.101306</td>\n",
       "      <td>3.0</td>\n",
       "      <td>1281.920753</td>\n",
       "      <td>V Yaletown</td>\n",
       "      <td>2.0</td>\n",
       "      <td>7.0</td>\n",
       "      <td>[1095 Mainland Street, Upper Level, Vancouver,...</td>\n",
       "      <td>6.0</td>\n",
       "    </tr>\n",
       "    <tr>\n",
       "      <th>486</th>\n",
       "      <td>49.280977</td>\n",
       "      <td>-123.035969</td>\n",
       "      <td>15.0</td>\n",
       "      <td>392.783241</td>\n",
       "      <td>McDonald's</td>\n",
       "      <td>1.0</td>\n",
       "      <td>4.0</td>\n",
       "      <td>[3444 East Hastings Street, Vancouver, BC V5K ...</td>\n",
       "      <td>33.0</td>\n",
       "    </tr>\n",
       "    <tr>\n",
       "      <th>487</th>\n",
       "      <td>49.270783</td>\n",
       "      <td>-123.141564</td>\n",
       "      <td>18.0</td>\n",
       "      <td>758.360382</td>\n",
       "      <td>Earls Kitchen + Bar</td>\n",
       "      <td>3.0</td>\n",
       "      <td>6.0</td>\n",
       "      <td>[1601 West Broadway, Vancouver, BC V6J 1W9, Ca...</td>\n",
       "      <td>190.0</td>\n",
       "    </tr>\n",
       "  </tbody>\n",
       "</table>\n",
       "<p>482 rows × 9 columns</p>\n",
       "</div>"
      ],
      "text/plain": [
       "      latitude   longitude  free_bikes     distance  \\\n",
       "0    49.262487 -123.114397         8.0   779.000000   \n",
       "1    49.274566 -123.121817         6.0   286.000000   \n",
       "2    49.279764 -123.110154        16.0   512.000000   \n",
       "3    49.260599 -123.113504         6.0   618.000000   \n",
       "4    49.264215 -123.117772         7.0   921.000000   \n",
       "..         ...         ...         ...          ...   \n",
       "483  49.247204 -123.101549         2.0   390.279951   \n",
       "484  49.285670 -123.112543        10.0   623.441425   \n",
       "485  49.250940 -123.101306         3.0  1281.920753   \n",
       "486  49.280977 -123.035969        15.0   392.783241   \n",
       "487  49.270783 -123.141564        18.0   758.360382   \n",
       "\n",
       "                                    name  price  rating  \\\n",
       "0                        The Juice Truck    1.0     9.1   \n",
       "1    The Keg Steakhouse + Bar - Yaletown    3.0     8.2   \n",
       "2                   Pourhouse Restaurant    2.0     9.0   \n",
       "3                          Rain or Shine    1.0     8.6   \n",
       "4                        The Juice Truck    1.0     9.1   \n",
       "..                                   ...    ...     ...   \n",
       "483                       Portland Craft    2.0     6.0   \n",
       "484            Showcase Restaurant & Bar    2.0     8.0   \n",
       "485                           V Yaletown    2.0     7.0   \n",
       "486                           McDonald's    1.0     4.0   \n",
       "487                  Earls Kitchen + Bar    3.0     6.0   \n",
       "\n",
       "                                               address  total_ratings  \n",
       "0    28 5th Ave W (btwn Manitoba & Ontario), Vancou...           38.0  \n",
       "1    1011 Mainland St (at Nelson St), Vancouver BC ...          210.0  \n",
       "2    162 Water St (btwn Cambie & Abbott), Vancouver...          380.0  \n",
       "3      3382 Cambie St (18th Ave), Vancouver BC V5Z 2W5           78.0  \n",
       "4    28 5th Ave W (btwn Manitoba & Ontario), Vancou...           38.0  \n",
       "..                                                 ...            ...  \n",
       "483  [3835 Main Street, Vancouver, BC V5V 3N9, Canada]          191.0  \n",
       "484  [1122 West Hastings Street, Vancouver, BC V6E ...          128.0  \n",
       "485  [1095 Mainland Street, Upper Level, Vancouver,...            6.0  \n",
       "486  [3444 East Hastings Street, Vancouver, BC V5K ...           33.0  \n",
       "487  [1601 West Broadway, Vancouver, BC V6J 1W9, Ca...          190.0  \n",
       "\n",
       "[482 rows x 9 columns]"
      ]
     },
     "execution_count": 103,
     "metadata": {},
     "output_type": "execute_result"
    }
   ],
   "source": [
    "#replace NaN values wjere dtype is float with 0\n",
    "#zero because some of the values may be highly dependent on other variables like total photos may be dependednt upon popularity and location(address)\n",
    "column_names = ['distance', 'price', 'rating', 'address', 'total_ratings']\n",
    "for name in column_names:\n",
    "    combined_df_final[name] = combined_df_final[name].fillna(0)\n",
    "\n",
    "#drop rows where name is not specified, same with free bikes\n",
    "combined_df_final = combined_df_final.dropna(subset=['name', 'free_bikes'])\n",
    "combined_df_final"
   ]
  },
  {
   "cell_type": "code",
   "execution_count": 104,
   "metadata": {},
   "outputs": [
    {
     "data": {
      "text/html": [
       "<div>\n",
       "<style scoped>\n",
       "    .dataframe tbody tr th:only-of-type {\n",
       "        vertical-align: middle;\n",
       "    }\n",
       "\n",
       "    .dataframe tbody tr th {\n",
       "        vertical-align: top;\n",
       "    }\n",
       "\n",
       "    .dataframe thead th {\n",
       "        text-align: right;\n",
       "    }\n",
       "</style>\n",
       "<table border=\"1\" class=\"dataframe\">\n",
       "  <thead>\n",
       "    <tr style=\"text-align: right;\">\n",
       "      <th></th>\n",
       "      <th>latitude</th>\n",
       "      <th>longitude</th>\n",
       "      <th>free_bikes</th>\n",
       "      <th>distance</th>\n",
       "      <th>price</th>\n",
       "      <th>rating</th>\n",
       "      <th>total_ratings</th>\n",
       "    </tr>\n",
       "  </thead>\n",
       "  <tbody>\n",
       "    <tr>\n",
       "      <th>count</th>\n",
       "      <td>482.000000</td>\n",
       "      <td>482.000000</td>\n",
       "      <td>482.000000</td>\n",
       "      <td>482.000000</td>\n",
       "      <td>482.000000</td>\n",
       "      <td>482.000000</td>\n",
       "      <td>482.000000</td>\n",
       "    </tr>\n",
       "    <tr>\n",
       "      <th>mean</th>\n",
       "      <td>49.271899</td>\n",
       "      <td>-123.116157</td>\n",
       "      <td>7.773859</td>\n",
       "      <td>703.831747</td>\n",
       "      <td>1.975104</td>\n",
       "      <td>7.732573</td>\n",
       "      <td>183.914938</td>\n",
       "    </tr>\n",
       "    <tr>\n",
       "      <th>std</th>\n",
       "      <td>0.011650</td>\n",
       "      <td>0.028764</td>\n",
       "      <td>5.107239</td>\n",
       "      <td>272.907989</td>\n",
       "      <td>0.688034</td>\n",
       "      <td>1.003423</td>\n",
       "      <td>207.589579</td>\n",
       "    </tr>\n",
       "    <tr>\n",
       "      <th>min</th>\n",
       "      <td>49.238105</td>\n",
       "      <td>-123.191458</td>\n",
       "      <td>0.000000</td>\n",
       "      <td>16.000000</td>\n",
       "      <td>1.000000</td>\n",
       "      <td>4.000000</td>\n",
       "      <td>1.000000</td>\n",
       "    </tr>\n",
       "    <tr>\n",
       "      <th>25%</th>\n",
       "      <td>49.263416</td>\n",
       "      <td>-123.135025</td>\n",
       "      <td>4.000000</td>\n",
       "      <td>500.237461</td>\n",
       "      <td>2.000000</td>\n",
       "      <td>7.000000</td>\n",
       "      <td>47.000000</td>\n",
       "    </tr>\n",
       "    <tr>\n",
       "      <th>50%</th>\n",
       "      <td>49.271596</td>\n",
       "      <td>-123.116624</td>\n",
       "      <td>7.000000</td>\n",
       "      <td>716.000000</td>\n",
       "      <td>2.000000</td>\n",
       "      <td>8.000000</td>\n",
       "      <td>120.500000</td>\n",
       "    </tr>\n",
       "    <tr>\n",
       "      <th>75%</th>\n",
       "      <td>49.280836</td>\n",
       "      <td>-123.097571</td>\n",
       "      <td>10.000000</td>\n",
       "      <td>912.611123</td>\n",
       "      <td>2.000000</td>\n",
       "      <td>8.500000</td>\n",
       "      <td>249.750000</td>\n",
       "    </tr>\n",
       "    <tr>\n",
       "      <th>max</th>\n",
       "      <td>49.302577</td>\n",
       "      <td>-123.035969</td>\n",
       "      <td>29.000000</td>\n",
       "      <td>1386.683256</td>\n",
       "      <td>4.000000</td>\n",
       "      <td>10.000000</td>\n",
       "      <td>1295.000000</td>\n",
       "    </tr>\n",
       "  </tbody>\n",
       "</table>\n",
       "</div>"
      ],
      "text/plain": [
       "         latitude   longitude  free_bikes     distance       price  \\\n",
       "count  482.000000  482.000000  482.000000   482.000000  482.000000   \n",
       "mean    49.271899 -123.116157    7.773859   703.831747    1.975104   \n",
       "std      0.011650    0.028764    5.107239   272.907989    0.688034   \n",
       "min     49.238105 -123.191458    0.000000    16.000000    1.000000   \n",
       "25%     49.263416 -123.135025    4.000000   500.237461    2.000000   \n",
       "50%     49.271596 -123.116624    7.000000   716.000000    2.000000   \n",
       "75%     49.280836 -123.097571   10.000000   912.611123    2.000000   \n",
       "max     49.302577 -123.035969   29.000000  1386.683256    4.000000   \n",
       "\n",
       "           rating  total_ratings  \n",
       "count  482.000000     482.000000  \n",
       "mean     7.732573     183.914938  \n",
       "std      1.003423     207.589579  \n",
       "min      4.000000       1.000000  \n",
       "25%      7.000000      47.000000  \n",
       "50%      8.000000     120.500000  \n",
       "75%      8.500000     249.750000  \n",
       "max     10.000000    1295.000000  "
      ]
     },
     "execution_count": 104,
     "metadata": {},
     "output_type": "execute_result"
    }
   ],
   "source": [
    "combined_df_final.describe()"
   ]
  },
  {
   "cell_type": "code",
   "execution_count": 105,
   "metadata": {},
   "outputs": [
    {
     "data": {
      "text/plain": [
       "<Axes: xlabel='distance'>"
      ]
     },
     "execution_count": 105,
     "metadata": {},
     "output_type": "execute_result"
    },
    {
     "data": {
      "image/png": "[encoded data removed]",
      "text/plain": [
       "<Figure size 640x480 with 1 Axes>"
      ]
     },
     "metadata": {},
     "output_type": "display_data"
    }
   ],
   "source": [
    "sns.boxplot(x=combined_df_final['distance'])"
   ]
  },
  {
   "cell_type": "code",
   "execution_count": 106,
   "metadata": {},
   "outputs": [
    {
     "data": {
      "text/plain": [
       "<Axes: xlabel='price'>"
      ]
     },
     "execution_count": 106,
     "metadata": {},
     "output_type": "execute_result"
    },
    {
     "data": {
      "image/png": "[encoded data removed]",
      "text/plain": [
       "<Figure size 640x480 with 1 Axes>"
      ]
     },
     "metadata": {},
     "output_type": "display_data"
    }
   ],
   "source": [
    "sns.boxplot(x=combined_df_final['price'])"
   ]
  },
  {
   "cell_type": "code",
   "execution_count": 107,
   "metadata": {},
   "outputs": [
    {
     "data": {
      "text/plain": [
       "<Axes: xlabel='rating'>"
      ]
     },
     "execution_count": 107,
     "metadata": {},
     "output_type": "execute_result"
    },
    {
     "data": {
      "image/png": "[encoded data removed]",
      "text/plain": [
       "<Figure size 640x480 with 1 Axes>"
      ]
     },
     "metadata": {},
     "output_type": "display_data"
    }
   ],
   "source": [
    "sns.boxplot(x=combined_df_final['rating'])"
   ]
  },
  {
   "cell_type": "code",
   "execution_count": 108,
   "metadata": {},
   "outputs": [
    {
     "data": {
      "text/plain": [
       "<Axes: xlabel='total_ratings'>"
      ]
     },
     "execution_count": 108,
     "metadata": {},
     "output_type": "execute_result"
    },
    {
     "data": {
      "image/png": "[encoded data removed]",
      "text/plain": [
       "<Figure size 640x480 with 1 Axes>"
      ]
     },
     "metadata": {},
     "output_type": "display_data"
    }
   ],
   "source": [
    "sns.boxplot(x=combined_df_final['total_ratings'])"
   ]
  },
  {
   "cell_type": "markdown",
   "metadata": {},
   "source": [
    "# Database"
   ]
  },
  {
   "cell_type": "code",
   "execution_count": null,
   "metadata": {},
   "outputs": [],
   "source": []
  },
  {
   "cell_type": "markdown",
   "metadata": {},
   "source": [
    "Put all your results in an SQLite3 database (remember, SQLite stores its databases as files in your local machine - make sure to create your database in your project's data/ directory!)"
   ]
  },
  {
   "cell_type": "code",
   "execution_count": null,
   "metadata": {},
   "outputs": [],
   "source": []
  },
  {
   "cell_type": "markdown",
   "metadata": {},
   "source": [
    "Look at the data before and after the join to validate your data."
   ]
  },
  {
   "cell_type": "code",
   "execution_count": null,
   "metadata": {},
   "outputs": [],
   "source": []
  }
 ],
 "metadata": {
  "kernelspec": {
   "display_name": "Python 3",
   "language": "python",
   "name": "python3"
  },
  "language_info": {
   "codemirror_mode": {
    "name": "ipython",
    "version": 3
   },
   "file_extension": ".py",
   "mimetype": "text/x-python",
   "name": "python",
   "nbconvert_exporter": "python",
   "pygments_lexer": "ipython3",
   "version": "3.8.5"
  }
 },
 "nbformat": 4,
 "nbformat_minor": 4
}
